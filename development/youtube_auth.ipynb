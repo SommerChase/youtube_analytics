{
 "cells": [
  {
   "cell_type": "code",
   "execution_count": 3,
   "metadata": {},
   "outputs": [],
   "source": [
    "import google.oauth2.credentials\n",
    "import google_auth_oauthlib.flow\n",
    "import flask\n",
    "\n",
    "# https://developers.google.com/youtube/reporting/guides/authorization/server-side-web-apps#python\n",
    "\n",
    "# Use the client_secret.json file to identify the application requesting\n",
    "# authorization. The client ID (from that file) and access scopes are required.\n",
    "flow = google_auth_oauthlib.flow.Flow.from_client_secrets_file(\n",
    "    'client_secret_web.json',\n",
    "    scopes=['https://www.googleapis.com/auth/yt-analytics.readonly'])\n",
    "\n",
    "# Indicate where the API server will redirect the user after the user completes\n",
    "# the authorization flow. The redirect URI is required. The value must exactly\n",
    "# match one of the authorized redirect URIs for the OAuth 2.0 client, which you\n",
    "# configured in the API Console. If this value doesn't match an authorized URI,\n",
    "# you will get a 'redirect_uri_mismatch' error.\n",
    "flow.redirect_uri = 'http://localhost:8080'\n",
    "\n",
    "# Generate URL for request to Google's OAuth 2.0 server.\n",
    "# Use kwargs to set optional request parameters.\n",
    "authorization_url, state = flow.authorization_url(\n",
    "    # Enable offline access so that you can refresh an access token without\n",
    "    # re-prompting the user for permission. Recommended for web server apps.\n",
    "    access_type='offline',\n",
    "    # Enable incremental authorization. Recommended as a best practice.\n",
    "    include_granted_scopes='true')"
   ]
  },
  {
   "cell_type": "code",
   "execution_count": 6,
   "metadata": {},
   "outputs": [
    {
     "ename": "RuntimeError",
     "evalue": "Working outside of request context.\n\nThis typically means that you attempted to use functionality that needed\nan active HTTP request. Consult the documentation on testing for\ninformation about how to avoid this problem.",
     "output_type": "error",
     "traceback": [
      "\u001b[1;31m---------------------------------------------------------------------------\u001b[0m",
      "\u001b[1;31mRuntimeError\u001b[0m                              Traceback (most recent call last)",
      "Cell \u001b[1;32mIn[6], line 1\u001b[0m\n\u001b[1;32m----> 1\u001b[0m state \u001b[39m=\u001b[39m flask\u001b[39m.\u001b[39;49msession[\u001b[39m'\u001b[39;49m\u001b[39mstate\u001b[39;49m\u001b[39m'\u001b[39;49m]\n\u001b[0;32m      2\u001b[0m flow \u001b[39m=\u001b[39m google_auth_oauthlib\u001b[39m.\u001b[39mflow\u001b[39m.\u001b[39mFlow\u001b[39m.\u001b[39mfrom_client_secrets_file(\n\u001b[0;32m      3\u001b[0m     \u001b[39m'\u001b[39m\u001b[39mclient_secret_web.json\u001b[39m\u001b[39m'\u001b[39m,\n\u001b[0;32m      4\u001b[0m     scopes\u001b[39m=\u001b[39m[\u001b[39m'\u001b[39m\u001b[39mhttps://www.googleapis.com/auth/yt-analytics.readonly\u001b[39m\u001b[39m'\u001b[39m],\n\u001b[0;32m      5\u001b[0m     state\u001b[39m=\u001b[39mstate)\n\u001b[0;32m      6\u001b[0m flow\u001b[39m.\u001b[39mredirect_uri \u001b[39m=\u001b[39m flask\u001b[39m.\u001b[39murl_for(\u001b[39m'\u001b[39m\u001b[39moauth2callback\u001b[39m\u001b[39m'\u001b[39m, _external\u001b[39m=\u001b[39m\u001b[39mTrue\u001b[39;00m)\n",
      "File \u001b[1;32mc:\\Users\\rober\\AppData\\Local\\pypoetry\\Cache\\virtualenvs\\youtube-analytics-0B9hMfII-py3.11\\Lib\\site-packages\\werkzeug\\local.py:311\u001b[0m, in \u001b[0;36m_ProxyLookup.__get__\u001b[1;34m(self, instance, owner)\u001b[0m\n\u001b[0;32m    308\u001b[0m     \u001b[39mreturn\u001b[39;00m \u001b[39mself\u001b[39m\n\u001b[0;32m    310\u001b[0m \u001b[39mtry\u001b[39;00m:\n\u001b[1;32m--> 311\u001b[0m     obj \u001b[39m=\u001b[39m instance\u001b[39m.\u001b[39;49m_get_current_object()\n\u001b[0;32m    312\u001b[0m \u001b[39mexcept\u001b[39;00m \u001b[39mRuntimeError\u001b[39;00m:\n\u001b[0;32m    313\u001b[0m     \u001b[39mif\u001b[39;00m \u001b[39mself\u001b[39m\u001b[39m.\u001b[39mfallback \u001b[39mis\u001b[39;00m \u001b[39mNone\u001b[39;00m:\n",
      "File \u001b[1;32mc:\\Users\\rober\\AppData\\Local\\pypoetry\\Cache\\virtualenvs\\youtube-analytics-0B9hMfII-py3.11\\Lib\\site-packages\\werkzeug\\local.py:508\u001b[0m, in \u001b[0;36mLocalProxy.__init__.<locals>._get_current_object\u001b[1;34m()\u001b[0m\n\u001b[0;32m    506\u001b[0m     obj \u001b[39m=\u001b[39m local\u001b[39m.\u001b[39mget()  \u001b[39m# type: ignore[union-attr]\u001b[39;00m\n\u001b[0;32m    507\u001b[0m \u001b[39mexcept\u001b[39;00m \u001b[39mLookupError\u001b[39;00m:\n\u001b[1;32m--> 508\u001b[0m     \u001b[39mraise\u001b[39;00m \u001b[39mRuntimeError\u001b[39;00m(unbound_message) \u001b[39mfrom\u001b[39;00m \u001b[39mNone\u001b[39;00m\n\u001b[0;32m    510\u001b[0m \u001b[39mreturn\u001b[39;00m get_name(obj)\n",
      "\u001b[1;31mRuntimeError\u001b[0m: Working outside of request context.\n\nThis typically means that you attempted to use functionality that needed\nan active HTTP request. Consult the documentation on testing for\ninformation about how to avoid this problem."
     ]
    }
   ],
   "source": [
    "state = flask.session['state']\n",
    "flow = google_auth_oauthlib.flow.Flow.from_client_secrets_file(\n",
    "    'client_secret_web.json',\n",
    "    scopes=['https://www.googleapis.com/auth/yt-analytics.readonly'],\n",
    "    state=state)\n",
    "flow.redirect_uri = flask.url_for('oauth2callback', _external=True)\n",
    "\n",
    "authorization_response = flask.request.url\n",
    "flow.fetch_token(authorization_response=authorization_response)\n",
    "\n",
    "# Store the credentials in the session.\n",
    "# ACTION ITEM for developers:\n",
    "#     Store user's access and refresh tokens in your data store if\n",
    "#     incorporating this code into your real app.\n",
    "credentials = flow.credentials\n",
    "flask.session['credentials'] = {\n",
    "    'token': credentials.token,\n",
    "    'refresh_token': credentials.refresh_token,\n",
    "    'token_uri': credentials.token_uri,\n",
    "    'client_id': credentials.client_id,\n",
    "    'client_secret': credentials.client_secret,\n",
    "    'scopes': credentials.scopes}\n",
    "\n",
    "from googleapiclient.discovery import build\n",
    "\n",
    "youtube = build('youtubeAnalytics', 'v1', credentials=credentials)"
   ]
  },
  {
   "cell_type": "code",
   "execution_count": null,
   "metadata": {},
   "outputs": [],
   "source": [
    "from googleapiclient.discovery import build\n",
    "\n",
    "youtube = build('youtubeAnalytics', 'v1', credentials=credentials)"
   ]
  }
 ],
 "metadata": {
  "kernelspec": {
   "display_name": "youtube-analytics-0B9hMfII-py3.11",
   "language": "python",
   "name": "python3"
  },
  "language_info": {
   "codemirror_mode": {
    "name": "ipython",
    "version": 3
   },
   "file_extension": ".py",
   "mimetype": "text/x-python",
   "name": "python",
   "nbconvert_exporter": "python",
   "pygments_lexer": "ipython3",
   "version": "3.11.3"
  },
  "orig_nbformat": 4
 },
 "nbformat": 4,
 "nbformat_minor": 2
}
