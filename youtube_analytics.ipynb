{
 "cells": [
  {
   "cell_type": "code",
   "execution_count": 155,
   "metadata": {},
   "outputs": [],
   "source": [
    "import pandas as pd\n",
    "import seaborn as sns\n",
    "import matplotlib.pyplot as plt\n",
    "from datetime import datetime\n",
    "from googleapiclient.discovery import build\n",
    "from google_auth_oauthlib.flow import InstalledAppFlow"
   ]
  },
  {
   "cell_type": "code",
   "execution_count": null,
   "metadata": {},
   "outputs": [],
   "source": [
    "# If you need to kill process: \n",
    "# https://stackoverflow.com/questions/45767905/errno-10048-only-one-usage-of-each-socket-address-protocol-network-address-p"
   ]
  },
  {
   "cell_type": "code",
   "execution_count": 156,
   "metadata": {},
   "outputs": [],
   "source": [
    "SCOPES = [\"https://www.googleapis.com/auth/yt-analytics.readonly\"]\n",
    "# https://developers.google.com/identity/protocols/oauth2/scopes\n",
    "\n",
    "# https://github.com/googleapis/google-api-python-client/blob/main/docs/dyn/index.md\n",
    "API_SERVICE_NAME = \"youtubeAnalytics\"\n",
    "API_VERSION = \"v2\"\n",
    "CLIENT_SECRETS_FILE = \"/youtube_analytics/client_secret_889124158621-s2c9bu0j2batb5nvm2mlni74efq63okq.apps.googleusercontent.com.json\"\n",
    "\n",
    "def get_service():\n",
    "    flow = InstalledAppFlow.from_client_secrets_file(CLIENT_SECRETS_FILE, SCOPES)\n",
    "    credentials = flow.run_local_server()\n",
    "    return build(API_SERVICE_NAME, API_VERSION, credentials = credentials)\n",
    "\n",
    "def execute_api_request(client_library_function, **kwargs):\n",
    "    response = client_library_function(\n",
    "        **kwargs\n",
    "    ).execute()\n",
    "    print(response)\n",
    "    return response\n",
    "\n",
    "today = datetime.today().strftime('%Y-%m-%d')"
   ]
  },
  {
   "cell_type": "code",
   "execution_count": null,
   "metadata": {},
   "outputs": [],
   "source": [
    "'''# Top 10 Videos by...\n",
    "if __name__ == \"__main__\":\n",
    "\n",
    "    # https://developers.google.com/youtube/analytics/data_model\n",
    "    youtubeAnalytics = get_service()\n",
    "    result = execute_api_request(\n",
    "        youtubeAnalytics.reports().query,\n",
    "        ids=\"channel==MINE\",\n",
    "        startDate=\"2022-01-01\",\n",
    "        endDate=today,\n",
    "        metrics=\"views,likes,subscribersGained,estimatedMinutesWatched,averageViewDuration,shares\",\n",
    "        dimensions=\"video\",\n",
    "        maxResults=10,\n",
    "        sort=\"-estimatedMinutesWatched\"\n",
    "    )'''"
   ]
  },
  {
   "cell_type": "code",
   "execution_count": 158,
   "metadata": {},
   "outputs": [
    {
     "ename": "OSError",
     "evalue": "[WinError 10048] Only one usage of each socket address (protocol/network address/port) is normally permitted",
     "output_type": "error",
     "traceback": [
      "\u001b[1;31m---------------------------------------------------------------------------\u001b[0m",
      "\u001b[1;31mOSError\u001b[0m                                   Traceback (most recent call last)",
      "Cell \u001b[1;32mIn[158], line 4\u001b[0m\n\u001b[0;32m      1\u001b[0m \u001b[39mif\u001b[39;00m \u001b[39m__name__\u001b[39m \u001b[39m==\u001b[39m \u001b[39m\"\u001b[39m\u001b[39m__main__\u001b[39m\u001b[39m\"\u001b[39m:\n\u001b[0;32m      2\u001b[0m \n\u001b[0;32m      3\u001b[0m     \u001b[39m# https://developers.google.com/youtube/analytics/data_model\u001b[39;00m\n\u001b[1;32m----> 4\u001b[0m     youtubeAnalytics \u001b[39m=\u001b[39m get_service()\n\u001b[0;32m      5\u001b[0m     result \u001b[39m=\u001b[39m execute_api_request(\n\u001b[0;32m      6\u001b[0m         youtubeAnalytics\u001b[39m.\u001b[39mreports()\u001b[39m.\u001b[39mquery,\n\u001b[0;32m      7\u001b[0m         ids\u001b[39m=\u001b[39m\u001b[39m\"\u001b[39m\u001b[39mchannel==MINE\u001b[39m\u001b[39m\"\u001b[39m,\n\u001b[1;32m   (...)\u001b[0m\n\u001b[0;32m     12\u001b[0m         sort\u001b[39m=\u001b[39m\u001b[39m\"\u001b[39m\u001b[39mday\u001b[39m\u001b[39m\"\u001b[39m\n\u001b[0;32m     13\u001b[0m     )\n",
      "Cell \u001b[1;32mIn[156], line 11\u001b[0m, in \u001b[0;36mget_service\u001b[1;34m()\u001b[0m\n\u001b[0;32m      9\u001b[0m \u001b[39mdef\u001b[39;00m \u001b[39mget_service\u001b[39m():\n\u001b[0;32m     10\u001b[0m     flow \u001b[39m=\u001b[39m InstalledAppFlow\u001b[39m.\u001b[39mfrom_client_secrets_file(CLIENT_SECRETS_FILE, SCOPES)\n\u001b[1;32m---> 11\u001b[0m     credentials \u001b[39m=\u001b[39m flow\u001b[39m.\u001b[39;49mrun_local_server()\n\u001b[0;32m     12\u001b[0m     \u001b[39mreturn\u001b[39;00m build(API_SERVICE_NAME, API_VERSION, credentials \u001b[39m=\u001b[39m credentials)\n",
      "File \u001b[1;32m~\\AppData\\Local\\Packages\\PythonSoftwareFoundation.Python.3.11_qbz5n2kfra8p0\\LocalCache\\local-packages\\Python311\\site-packages\\google_auth_oauthlib\\flow.py:425\u001b[0m, in \u001b[0;36mInstalledAppFlow.run_local_server\u001b[1;34m(self, host, bind_addr, port, authorization_prompt_message, success_message, open_browser, redirect_uri_trailing_slash, timeout_seconds, **kwargs)\u001b[0m\n\u001b[0;32m    423\u001b[0m \u001b[39m# Fail fast if the address is occupied\u001b[39;00m\n\u001b[0;32m    424\u001b[0m wsgiref\u001b[39m.\u001b[39msimple_server\u001b[39m.\u001b[39mWSGIServer\u001b[39m.\u001b[39mallow_reuse_address \u001b[39m=\u001b[39m \u001b[39mFalse\u001b[39;00m\n\u001b[1;32m--> 425\u001b[0m local_server \u001b[39m=\u001b[39m wsgiref\u001b[39m.\u001b[39;49msimple_server\u001b[39m.\u001b[39;49mmake_server(\n\u001b[0;32m    426\u001b[0m     bind_addr \u001b[39mor\u001b[39;49;00m host, port, wsgi_app, handler_class\u001b[39m=\u001b[39;49m_WSGIRequestHandler\n\u001b[0;32m    427\u001b[0m )\n\u001b[0;32m    429\u001b[0m redirect_uri_format \u001b[39m=\u001b[39m (\n\u001b[0;32m    430\u001b[0m     \u001b[39m\"\u001b[39m\u001b[39mhttp://\u001b[39m\u001b[39m{}\u001b[39;00m\u001b[39m:\u001b[39m\u001b[39m{}\u001b[39;00m\u001b[39m/\u001b[39m\u001b[39m\"\u001b[39m \u001b[39mif\u001b[39;00m redirect_uri_trailing_slash \u001b[39melse\u001b[39;00m \u001b[39m\"\u001b[39m\u001b[39mhttp://\u001b[39m\u001b[39m{}\u001b[39;00m\u001b[39m:\u001b[39m\u001b[39m{}\u001b[39;00m\u001b[39m\"\u001b[39m\n\u001b[0;32m    431\u001b[0m )\n\u001b[0;32m    432\u001b[0m \u001b[39mself\u001b[39m\u001b[39m.\u001b[39mredirect_uri \u001b[39m=\u001b[39m redirect_uri_format\u001b[39m.\u001b[39mformat(host, local_server\u001b[39m.\u001b[39mserver_port)\n",
      "File \u001b[1;32mC:\\Program Files\\WindowsApps\\PythonSoftwareFoundation.Python.3.11_3.11.1008.0_x64__qbz5n2kfra8p0\\Lib\\wsgiref\\simple_server.py:154\u001b[0m, in \u001b[0;36mmake_server\u001b[1;34m(host, port, app, server_class, handler_class)\u001b[0m\n\u001b[0;32m    150\u001b[0m \u001b[39mdef\u001b[39;00m \u001b[39mmake_server\u001b[39m(\n\u001b[0;32m    151\u001b[0m     host, port, app, server_class\u001b[39m=\u001b[39mWSGIServer, handler_class\u001b[39m=\u001b[39mWSGIRequestHandler\n\u001b[0;32m    152\u001b[0m ):\n\u001b[0;32m    153\u001b[0m \u001b[39m    \u001b[39m\u001b[39m\"\"\"Create a new WSGI server listening on `host` and `port` for `app`\"\"\"\u001b[39;00m\n\u001b[1;32m--> 154\u001b[0m     server \u001b[39m=\u001b[39m server_class((host, port), handler_class)\n\u001b[0;32m    155\u001b[0m     server\u001b[39m.\u001b[39mset_app(app)\n\u001b[0;32m    156\u001b[0m     \u001b[39mreturn\u001b[39;00m server\n",
      "File \u001b[1;32mC:\\Program Files\\WindowsApps\\PythonSoftwareFoundation.Python.3.11_3.11.1008.0_x64__qbz5n2kfra8p0\\Lib\\socketserver.py:456\u001b[0m, in \u001b[0;36mTCPServer.__init__\u001b[1;34m(self, server_address, RequestHandlerClass, bind_and_activate)\u001b[0m\n\u001b[0;32m    454\u001b[0m \u001b[39mif\u001b[39;00m bind_and_activate:\n\u001b[0;32m    455\u001b[0m     \u001b[39mtry\u001b[39;00m:\n\u001b[1;32m--> 456\u001b[0m         \u001b[39mself\u001b[39;49m\u001b[39m.\u001b[39;49mserver_bind()\n\u001b[0;32m    457\u001b[0m         \u001b[39mself\u001b[39m\u001b[39m.\u001b[39mserver_activate()\n\u001b[0;32m    458\u001b[0m     \u001b[39mexcept\u001b[39;00m:\n",
      "File \u001b[1;32mC:\\Program Files\\WindowsApps\\PythonSoftwareFoundation.Python.3.11_3.11.1008.0_x64__qbz5n2kfra8p0\\Lib\\wsgiref\\simple_server.py:50\u001b[0m, in \u001b[0;36mWSGIServer.server_bind\u001b[1;34m(self)\u001b[0m\n\u001b[0;32m     48\u001b[0m \u001b[39mdef\u001b[39;00m \u001b[39mserver_bind\u001b[39m(\u001b[39mself\u001b[39m):\n\u001b[0;32m     49\u001b[0m \u001b[39m    \u001b[39m\u001b[39m\"\"\"Override server_bind to store the server name.\"\"\"\u001b[39;00m\n\u001b[1;32m---> 50\u001b[0m     HTTPServer\u001b[39m.\u001b[39;49mserver_bind(\u001b[39mself\u001b[39;49m)\n\u001b[0;32m     51\u001b[0m     \u001b[39mself\u001b[39m\u001b[39m.\u001b[39msetup_environ()\n",
      "File \u001b[1;32mC:\\Program Files\\WindowsApps\\PythonSoftwareFoundation.Python.3.11_3.11.1008.0_x64__qbz5n2kfra8p0\\Lib\\http\\server.py:136\u001b[0m, in \u001b[0;36mHTTPServer.server_bind\u001b[1;34m(self)\u001b[0m\n\u001b[0;32m    134\u001b[0m \u001b[39mdef\u001b[39;00m \u001b[39mserver_bind\u001b[39m(\u001b[39mself\u001b[39m):\n\u001b[0;32m    135\u001b[0m \u001b[39m    \u001b[39m\u001b[39m\"\"\"Override server_bind to store the server name.\"\"\"\u001b[39;00m\n\u001b[1;32m--> 136\u001b[0m     socketserver\u001b[39m.\u001b[39;49mTCPServer\u001b[39m.\u001b[39;49mserver_bind(\u001b[39mself\u001b[39;49m)\n\u001b[0;32m    137\u001b[0m     host, port \u001b[39m=\u001b[39m \u001b[39mself\u001b[39m\u001b[39m.\u001b[39mserver_address[:\u001b[39m2\u001b[39m]\n\u001b[0;32m    138\u001b[0m     \u001b[39mself\u001b[39m\u001b[39m.\u001b[39mserver_name \u001b[39m=\u001b[39m socket\u001b[39m.\u001b[39mgetfqdn(host)\n",
      "File \u001b[1;32mC:\\Program Files\\WindowsApps\\PythonSoftwareFoundation.Python.3.11_3.11.1008.0_x64__qbz5n2kfra8p0\\Lib\\socketserver.py:472\u001b[0m, in \u001b[0;36mTCPServer.server_bind\u001b[1;34m(self)\u001b[0m\n\u001b[0;32m    470\u001b[0m \u001b[39mif\u001b[39;00m \u001b[39mself\u001b[39m\u001b[39m.\u001b[39mallow_reuse_port \u001b[39mand\u001b[39;00m \u001b[39mhasattr\u001b[39m(socket, \u001b[39m\"\u001b[39m\u001b[39mSO_REUSEPORT\u001b[39m\u001b[39m\"\u001b[39m):\n\u001b[0;32m    471\u001b[0m     \u001b[39mself\u001b[39m\u001b[39m.\u001b[39msocket\u001b[39m.\u001b[39msetsockopt(socket\u001b[39m.\u001b[39mSOL_SOCKET, socket\u001b[39m.\u001b[39mSO_REUSEPORT, \u001b[39m1\u001b[39m)\n\u001b[1;32m--> 472\u001b[0m \u001b[39mself\u001b[39m\u001b[39m.\u001b[39msocket\u001b[39m.\u001b[39mbind(\u001b[39mself\u001b[39m\u001b[39m.\u001b[39mserver_address)\n\u001b[0;32m    473\u001b[0m \u001b[39mself\u001b[39m\u001b[39m.\u001b[39mserver_address \u001b[39m=\u001b[39m \u001b[39mself\u001b[39m\u001b[39m.\u001b[39msocket\u001b[39m.\u001b[39mgetsockname()\n",
      "\u001b[1;31mOSError\u001b[0m: [WinError 10048] Only one usage of each socket address (protocol/network address/port) is normally permitted"
     ]
    }
   ],
   "source": [
    "if __name__ == \"__main__\":\n",
    "\n",
    "    # https://developers.google.com/youtube/analytics/data_model\n",
    "    youtubeAnalytics = get_service()\n",
    "    result = execute_api_request(\n",
    "        youtubeAnalytics.reports().query,\n",
    "        ids=\"channel==MINE\",\n",
    "        startDate=\"2022-01-01\",\n",
    "        endDate=today,\n",
    "        metrics=\"views,likes,subscribersGained,estimatedMinutesWatched,averageViewDuration,shares\",\n",
    "        dimensions=\"day,creatorContentType\",\n",
    "        sort=\"day\"\n",
    "    )"
   ]
  },
  {
   "cell_type": "code",
   "execution_count": null,
   "metadata": {},
   "outputs": [],
   "source": [
    "columns = [\n",
    "    result['columnHeaders'][0]['name'],\n",
    "    result['columnHeaders'][1]['name'],\n",
    "    result['columnHeaders'][2]['name'],\n",
    "    result['columnHeaders'][3]['name'],\n",
    "    result['columnHeaders'][4]['name'],\n",
    "    result['columnHeaders'][5]['name'],\n",
    "    result['columnHeaders'][6]['name'],\n",
    "    result['columnHeaders'][7]['name']\n",
    "]\n",
    "columns"
   ]
  },
  {
   "cell_type": "code",
   "execution_count": null,
   "metadata": {},
   "outputs": [],
   "source": [
    "df = pd.DataFrame(result[\"rows\"])\n",
    "df.columns = columns\n",
    "df"
   ]
  },
  {
   "cell_type": "code",
   "execution_count": null,
   "metadata": {},
   "outputs": [],
   "source": [
    "# Filter out shorts and creatorContentTypeUnspecified\n",
    "df_video_and_live = df[~df.creatorContentType.isin(['shorts', 'creatorContentTypeUnspecified'])]\n",
    "df_video_and_live['watch_hours'] = df_video_and_live['estimatedMinutesWatched'] / 60\n",
    "df_video_and_live['cumulative_watch_hours'] = df_video_and_live['watch_hours'].cumsum()\n",
    "df_video_and_live['partner_goal_watch_hours'] = 4000\n",
    "df_video_and_live"
   ]
  },
  {
   "cell_type": "code",
   "execution_count": null,
   "metadata": {},
   "outputs": [],
   "source": [
    "df_video_and_live_2023 = df_video_and_live[df_video_and_live['day'] > '2023-03-01']"
   ]
  },
  {
   "cell_type": "code",
   "execution_count": null,
   "metadata": {},
   "outputs": [],
   "source": [
    "sns.set(rc={'figure.figsize':(15, 5)})\n",
    "plt.xticks(rotation=90)\n",
    "sns.lineplot(data=df_video_and_live_2023,\n",
    "             x=\"day\",\n",
    "             y=\"watch_hours\",\n",
    "             hue=\"creatorContentType\")\n",
    "\n",
    "\n"
   ]
  },
  {
   "cell_type": "code",
   "execution_count": null,
   "metadata": {},
   "outputs": [],
   "source": [
    "sns.set(rc={'figure.figsize':(15, 5)})\n",
    "plt.xticks(rotation=90)\n",
    "sns.barplot(data=df_video_and_live_2023,\n",
    "             x=\"day\",\n",
    "             y=\"cumulative_watch_hours\")"
   ]
  },
  {
   "cell_type": "code",
   "execution_count": null,
   "metadata": {},
   "outputs": [],
   "source": [
    "sns.set(rc={'figure.figsize':(5, 10)})\n",
    "sns.boxplot(data=df_video_and_live_2023,\n",
    "            x=\"creatorContentType\",\n",
    "            y=\"watch_hours\")"
   ]
  }
 ],
 "metadata": {
  "kernelspec": {
   "display_name": "Python 3",
   "language": "python",
   "name": "python3"
  },
  "language_info": {
   "codemirror_mode": {
    "name": "ipython",
    "version": 3
   },
   "file_extension": ".py",
   "mimetype": "text/x-python",
   "name": "python",
   "nbconvert_exporter": "python",
   "pygments_lexer": "ipython3",
   "version": "3.11.3"
  },
  "orig_nbformat": 4
 },
 "nbformat": 4,
 "nbformat_minor": 2
}
