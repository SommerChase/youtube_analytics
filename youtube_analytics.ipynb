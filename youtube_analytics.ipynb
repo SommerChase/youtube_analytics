{
 "cells": [
  {
   "cell_type": "code",
   "execution_count": 2,
   "metadata": {},
   "outputs": [],
   "source": [
    "import pandas as pd\n",
    "import seaborn as sns\n",
    "import matplotlib.pyplot as plt\n",
    "import plotly.express as px\n",
    "from datetime import datetime\n",
    "from googleapiclient.discovery import build\n",
    "from google_auth_oauthlib.flow import InstalledAppFlow"
   ]
  },
  {
   "cell_type": "code",
   "execution_count": 3,
   "metadata": {},
   "outputs": [],
   "source": [
    "# If you need to kill process: \n",
    "# https://stackoverflow.com/questions/45767905/errno-10048-only-one-usage-of-each-socket-address-protocol-network-address-p"
   ]
  },
  {
   "cell_type": "code",
   "execution_count": 4,
   "metadata": {},
   "outputs": [],
   "source": [
    "SCOPES = [\"https://www.googleapis.com/auth/yt-analytics.readonly\"]\n",
    "# https://developers.google.com/identity/protocols/oauth2/scopes\n",
    "\n",
    "# https://github.com/googleapis/google-api-python-client/blob/main/docs/dyn/index.md\n",
    "API_SERVICE_NAME = \"youtubeAnalytics\"\n",
    "API_VERSION = \"v2\"\n",
    "CLIENT_SECRETS_FILE = \"/youtube_analytics/client_secret_889124158621-s2c9bu0j2batb5nvm2mlni74efq63okq.apps.googleusercontent.com.json\"\n",
    "\n",
    "def get_service():\n",
    "    flow = InstalledAppFlow.from_client_secrets_file(CLIENT_SECRETS_FILE, SCOPES)\n",
    "    credentials = flow.run_local_server()\n",
    "    return build(API_SERVICE_NAME, API_VERSION, credentials = credentials)\n",
    "\n",
    "def execute_api_request(client_library_function, **kwargs):\n",
    "    response = client_library_function(\n",
    "        **kwargs\n",
    "    ).execute()\n",
    "    print(response)\n",
    "    return response\n",
    "\n",
    "today = datetime.today().strftime('%Y-%m-%d')"
   ]
  },
  {
   "cell_type": "code",
   "execution_count": 5,
   "metadata": {},
   "outputs": [
    {
     "data": {
      "text/plain": [
       "'# Top 10 Videos by...\\nif __name__ == \"__main__\":\\n\\n    # https://developers.google.com/youtube/analytics/data_model\\n    youtubeAnalytics = get_service()\\n    result = execute_api_request(\\n        youtubeAnalytics.reports().query,\\n        ids=\"channel==MINE\",\\n        startDate=\"2022-01-01\",\\n        endDate=today,\\n        metrics=\"views,likes,subscribersGained,estimatedMinutesWatched,averageViewDuration,shares\",\\n        dimensions=\"video\",\\n        maxResults=10,\\n        sort=\"-estimatedMinutesWatched\"\\n    )'"
      ]
     },
     "execution_count": 5,
     "metadata": {},
     "output_type": "execute_result"
    }
   ],
   "source": [
    "'''# Top 10 Videos by...\n",
    "if __name__ == \"__main__\":\n",
    "\n",
    "    # https://developers.google.com/youtube/analytics/data_model\n",
    "    youtubeAnalytics = get_service()\n",
    "    result = execute_api_request(\n",
    "        youtubeAnalytics.reports().query,\n",
    "        ids=\"channel==MINE\",\n",
    "        startDate=\"2022-01-01\",\n",
    "        endDate=today,\n",
    "        metrics=\"views,likes,subscribersGained,estimatedMinutesWatched,averageViewDuration,shares\",\n",
    "        dimensions=\"video\",\n",
    "        maxResults=10,\n",
    "        sort=\"-estimatedMinutesWatched\"\n",
    "    )'''"
   ]
  },
  {
   "cell_type": "code",
   "execution_count": 6,
   "metadata": {},
   "outputs": [
    {
     "name": "stdout",
     "output_type": "stream",
     "text": [
      "Please visit this URL to authorize this application: https://accounts.google.com/o/oauth2/auth?response_type=code&client_id=889124158621-s2c9bu0j2batb5nvm2mlni74efq63okq.apps.googleusercontent.com&redirect_uri=http%3A%2F%2Flocalhost%3A8080%2F&scope=https%3A%2F%2Fwww.googleapis.com%2Fauth%2Fyt-analytics.readonly&state=121KgKEHsbmyQBQRHIBScqlG819Aj7&access_type=offline\n",
      "{'kind': 'youtubeAnalytics#resultTable', 'columnHeaders': [{'name': 'day', 'columnType': 'DIMENSION', 'dataType': 'STRING'}, {'name': 'creatorContentType', 'columnType': 'DIMENSION', 'dataType': 'STRING'}, {'name': 'views', 'columnType': 'METRIC', 'dataType': 'INTEGER'}, {'name': 'likes', 'columnType': 'METRIC', 'dataType': 'INTEGER'}, {'name': 'subscribersGained', 'columnType': 'METRIC', 'dataType': 'INTEGER'}, {'name': 'estimatedMinutesWatched', 'columnType': 'METRIC', 'dataType': 'INTEGER'}, {'name': 'averageViewDuration', 'columnType': 'METRIC', 'dataType': 'INTEGER'}, {'name': 'shares', 'columnType': 'METRIC', 'dataType': 'INTEGER'}], 'rows': [['2022-01-02', 'videoOnDemand', 1, 0, 0, 0, 58, 0], ['2022-01-03', 'videoOnDemand', 2, 0, 0, 1, 45, 0], ['2022-01-05', 'videoOnDemand', 1, 0, 0, 3, 202, 0], ['2022-01-06', 'shorts', 1, 0, 0, 0, 2, 0], ['2022-01-07', 'videoOnDemand', 2, 0, 0, 1, 58, 0], ['2022-01-08', 'videoOnDemand', 1, 0, 0, 0, 16, 0], ['2022-01-09', 'videoOnDemand', 1, 0, 0, 0, 5, 0], ['2022-01-10', 'videoOnDemand', 1, 0, 0, 1, 86, 0], ['2022-01-14', 'videoOnDemand', 1, 0, 0, 0, 12, 0], ['2022-01-18', 'videoOnDemand', 1, 0, 0, 1, 77, 0], ['2022-01-19', 'shorts', 2, 0, 0, 0, 26, 0], ['2022-01-19', 'videoOnDemand', 1, 0, 0, 0, 14, 0], ['2022-01-21', 'shorts', 1, 0, 0, 0, 1, 0], ['2022-01-21', 'videoOnDemand', 2, 0, 0, 0, 11, 0], ['2022-01-22', 'videoOnDemand', 1, 0, 0, 0, 11, 0], ['2022-01-23', 'liveStream', 1, 0, 0, 0, 52, 0], ['2022-01-26', 'shorts', 1, 0, 0, 0, 50, 0], ['2022-01-28', 'videoOnDemand', 1, 0, 0, 0, 19, 0], ['2022-01-30', 'shorts', 1, 0, 0, 0, 2, 0], ['2022-01-30', 'videoOnDemand', 2, 0, 0, 2, 78, 0], ['2022-01-31', 'videoOnDemand', 1, 0, 0, 0, 7, 0], ['2022-02-02', 'videoOnDemand', 1, 0, 0, 0, 4, 0], ['2022-02-05', 'shorts', 1, 0, 0, 0, 7, 0], ['2022-02-07', 'videoOnDemand', 1, -1, 0, 0, 50, 0], ['2022-02-08', 'videoOnDemand', 1, 0, 0, 0, 7, 0], ['2022-02-09', 'videoOnDemand', 1, 0, 0, 0, 2, 0], ['2022-02-12', 'videoOnDemand', 2, 0, 0, 0, 7, 0], ['2022-02-13', 'videoOnDemand', 1, 0, 0, 1, 90, 0], ['2022-02-18', 'videoOnDemand', 1, 0, 0, 0, 9, 0], ['2022-02-19', 'videoOnDemand', 1, 0, 0, 1, 69, 0], ['2022-02-21', 'videoOnDemand', 3, 0, 0, 1, 22, 0], ['2022-02-22', 'shorts', 2, 0, 0, 0, 29, 0], ['2022-02-22', 'videoOnDemand', 1, 0, 0, 0, 31, 0], ['2022-02-23', 'videoOnDemand', 1, 0, 0, 2, 141, 0], ['2022-02-25', 'videoOnDemand', 4, 0, 0, 19, 292, 1], ['2022-03-09', 'videoOnDemand', 1, 0, 0, 0, 44, 0], ['2022-03-10', 'videoOnDemand', 4, 1, 0, 7, 111, 0], ['2022-03-12', 'liveStream', 1, 0, 0, 0, 16, 0], ['2022-03-12', 'videoOnDemand', 1, 0, 0, 1, 114, 0], ['2022-03-16', 'videoOnDemand', 1, 0, 0, 0, 6, 0], ['2022-03-17', 'videoOnDemand', 1, 0, 0, 1, 69, 0], ['2022-03-18', 'shorts', 1, 0, 0, 0, 16, 0], ['2022-03-18', 'videoOnDemand', 1, 0, 0, 3, 208, 0], ['2022-03-20', 'liveStream', 2, 0, 0, 14, 424, 0], ['2022-03-20', 'videoOnDemand', 2, 0, 0, 0, 10, 0], ['2022-03-23', 'videoOnDemand', 1, 0, 0, 0, 27, 0], ['2022-03-24', 'videoOnDemand', 1, 0, 0, 0, 34, 0], ['2022-03-26', 'videoOnDemand', 2, 0, 0, 14, 444, 0], ['2022-03-27', 'videoOnDemand', 1, 0, 0, 0, 6, 0], ['2022-03-30', 'videoOnDemand', 1, 0, 0, 3, 207, 0], ['2022-04-02', 'videoOnDemand', 1, 0, 0, 0, 11, 0], ['2022-04-03', 'videoOnDemand', 1, 0, 0, 2, 120, 0], ['2022-04-08', 'videoOnDemand', 1, 0, 0, 0, 48, 0], ['2022-04-14', 'shorts', 1, 0, 0, 0, 45, 0], ['2022-04-15', 'videoOnDemand', 1, 0, 0, 0, 3, 0], ['2022-04-16', 'shorts', 1, 0, 0, 0, 32, 0], ['2022-04-17', 'videoOnDemand', 1, 0, 0, 0, 6, 2], ['2022-04-18', 'videoOnDemand', 1, 0, 0, 0, 14, 0], ['2022-04-21', 'videoOnDemand', 0, 0, 0, 0, 0, 1], ['2022-04-22', 'videoOnDemand', 1, 0, 0, 0, 24, 0], ['2022-04-24', 'videoOnDemand', 1, 0, 0, 1, 96, 0], ['2022-04-25', 'liveStream', 1, 0, 0, 4, 253, 0], ['2022-04-25', 'shorts', 1, 0, 0, 0, 6, 0], ['2022-04-25', 'videoOnDemand', 1, 0, 0, 0, 16, 0], ['2022-04-26', 'shorts', 1, 0, 0, 0, 17, 0], ['2022-04-26', 'videoOnDemand', 1, 0, 0, 0, 20, 0], ['2022-04-27', 'videoOnDemand', 1, 0, 0, 0, 6, 0], ['2022-04-29', 'liveStream', 1, 0, 0, 0, 1, 0], ['2022-04-30', 'videoOnDemand', 1, 0, 0, 2, 158, 0], ['2022-05-01', 'videoOnDemand', 1, 0, 0, 0, 55, 0], ['2022-05-03', 'liveStream', 1, 0, 0, 0, 41, 0], ['2022-05-03', 'shorts', 1, 0, 0, 0, 14, 0], ['2022-05-09', 'videoOnDemand', 5, 1, 0, 0, 6, 0], ['2022-05-10', 'videoOnDemand', 2, 0, 0, 0, 20, 0], ['2022-05-11', 'shorts', 1, 0, 0, 0, 50, 0], ['2022-05-12', 'videoOnDemand', 1, 0, 0, 0, 0, 0], ['2022-05-13', 'videoOnDemand', 2, 0, 0, 1, 41, 0], ['2022-05-14', 'videoOnDemand', 5, 0, 0, 1, 17, 0], ['2022-05-15', 'videoOnDemand', 9, 0, 0, 9, 65, 0], ['2022-05-19', 'videoOnDemand', 1, 0, 0, 0, 19, 0], ['2022-05-21', 'videoOnDemand', 3, 0, 0, 0, 8, 0], ['2022-05-22', 'videoOnDemand', 1, 1, 0, 2, 132, 0], ['2022-05-24', 'videoOnDemand', 7, 1, 0, 2, 22, 1], ['2022-05-25', 'shorts', 1, 0, 0, 0, 16, 0], ['2022-05-25', 'videoOnDemand', 2, 0, 0, 0, 14, 0], ['2022-05-29', 'videoOnDemand', 1, 0, 0, 0, 5, 0], ['2022-05-31', 'shorts', 1, 0, 0, 0, 4, 0], ['2022-06-01', 'liveStream', 8, 0, 1, 4, 37, 0], ['2022-06-01', 'videoOnDemand', 1, 0, 0, 1, 92, 0], ['2022-06-02', 'liveStream', 10, 1, 1, 4, 29, 0], ['2022-06-02', 'videoOnDemand', 3, 0, 0, 2, 59, 0], ['2022-06-03', 'shorts', 1, 0, 0, 0, 6, 0], ['2022-06-03', 'videoOnDemand', 3, 0, 0, 1, 34, 0], ['2022-06-04', 'videoOnDemand', 3, 0, 0, 2, 46, 0], ['2022-06-05', 'liveStream', 4, 0, 0, 0, 6, 0], ['2022-06-05', 'videoOnDemand', 8, 1, 0, 17, 132, 0], ['2022-06-06', 'videoOnDemand', 2, 0, 0, 1, 46, 0], ['2022-06-07', 'liveStream', 2, 0, 0, 0, 18, 0], ['2022-06-08', 'liveStream', 1, 0, 0, 0, 27, 0], ['2022-06-08', 'videoOnDemand', 7, 0, 0, 5, 44, 0], ['2022-06-09', 'liveStream', 1, 0, 0, 0, 8, 0], ['2022-06-09', 'videoOnDemand', 13, 0, 1, 10, 50, 0], ['2022-06-10', 'liveStream', 1, 0, 0, 0, 19, 0], ['2022-06-10', 'videoOnDemand', 5, 1, 0, 4, 54, 0], ['2022-06-11', 'videoOnDemand', 2, 0, 0, 2, 71, 0], ['2022-06-12', 'videoOnDemand', 1, 0, 0, 0, 23, 0], ['2022-06-13', 'videoOnDemand', 3, 0, 0, 1, 38, 0], ['2022-06-14', 'videoOnDemand', 4, 0, 0, 2, 33, 0], ['2022-06-15', 'creatorContentTypeUnspecified', 0, 0, 1, 0, 0, 0], ['2022-06-15', 'shorts', 2, 0, 0, 0, 17, 0], ['2022-06-15', 'videoOnDemand', 4, 0, 0, 1, 17, 0], ['2022-06-16', 'liveStream', 1, 0, 0, 7, 471, 0], ['2022-06-16', 'videoOnDemand', 1, 0, 0, 0, 35, 0], ['2022-06-17', 'videoOnDemand', 1, 0, 0, 1, 96, 0], ['2022-06-18', 'videoOnDemand', 1, 0, 0, 0, 1, 0], ['2022-06-20', 'videoOnDemand', 2, 0, 0, 0, 22, 0], ['2022-06-22', 'videoOnDemand', 1, 0, 0, 0, 4, 0], ['2022-06-25', 'videoOnDemand', 2, 0, 0, 0, 22, 0], ['2022-06-27', 'videoOnDemand', 2, 0, 0, 1, 42, 0], ['2022-07-01', 'videoOnDemand', 1, 0, 0, 0, 10, 0], ['2022-07-04', 'videoOnDemand', 1, 0, 0, 0, 16, 0], ['2022-07-05', 'videoOnDemand', 1, 0, 0, 1, 104, 0], ['2022-07-07', 'videoOnDemand', 1, 0, 0, 0, 52, 0], ['2022-07-11', 'videoOnDemand', 1, 0, 0, 0, 39, 0], ['2022-07-17', 'videoOnDemand', 2, 0, 0, 5, 167, 0], ['2022-07-21', 'videoOnDemand', 1, 0, 0, 1, 82, 0], ['2022-07-24', 'liveStream', 1, 0, 0, 0, 10, 0], ['2022-07-25', 'shorts', 1, 0, 0, 0, 17, 0], ['2022-07-26', 'videoOnDemand', 1, 0, 0, 1, 104, 0], ['2022-07-27', 'videoOnDemand', 1, 0, 0, 0, 11, 0], ['2022-08-03', 'videoOnDemand', 1, 0, 0, 0, 15, 0], ['2022-08-04', 'videoOnDemand', 1, 0, 0, 1, 70, 0], ['2022-08-05', 'shorts', 1, 0, 0, 0, 2, 0], ['2022-08-05', 'videoOnDemand', 2, 0, 0, 1, 47, 0], ['2022-08-08', 'videoOnDemand', 1, 0, 0, 8, 522, 0], ['2022-08-09', 'videoOnDemand', 3, 0, 0, 5, 104, 0], ['2022-08-10', 'videoOnDemand', 3, 0, 0, 8, 163, 0], ['2022-08-13', 'videoOnDemand', 2, 0, 0, 2, 86, 0], ['2022-08-14', 'videoOnDemand', 3, 0, 0, 2, 46, 1], ['2022-08-17', 'videoOnDemand', 1, 0, 0, 0, 38, 0], ['2022-08-18', 'videoOnDemand', 1, 0, 0, 0, 9, 0], ['2022-08-23', 'shorts', 1, 0, 0, 0, 2, 0], ['2022-08-23', 'videoOnDemand', 1, 1, 0, 0, 25, 0], ['2022-08-25', 'shorts', 1, 0, 0, 0, 28, 0], ['2022-08-25', 'videoOnDemand', 1, 0, 0, 0, 12, 0], ['2022-08-27', 'videoOnDemand', 1, 0, 0, 1, 79, 0], ['2022-08-28', 'videoOnDemand', 2, 0, 0, 0, 8, 0], ['2022-08-29', 'videoOnDemand', 1, 0, 0, 14, 887, 0], ['2022-09-05', 'videoOnDemand', 4, 0, 0, 8, 128, 0], ['2022-09-06', 'videoOnDemand', 1, 0, 0, 0, 8, 0], ['2022-09-10', 'videoOnDemand', 1, 0, 0, 0, 21, 0], ['2022-09-12', 'videoOnDemand', 1, 0, 0, 0, 29, 0], ['2022-09-14', 'shorts', 2, 0, 0, 0, 21, 0], ['2022-09-14', 'videoOnDemand', 1, 0, 0, 0, 50, 0], ['2022-09-18', 'shorts', 1, 0, 0, 0, 14, 0], ['2022-09-28', 'shorts', 2, 0, 0, 0, 4, 0], ['2022-09-30', 'videoOnDemand', 1, 0, 0, 0, 17, 0], ['2022-10-02', 'shorts', 1, 0, 0, 0, 3, 0], ['2022-10-05', 'videoOnDemand', 1, 0, 0, 0, 22, 0], ['2022-10-10', 'liveStream', 1, 0, 0, 0, 31, 0], ['2022-10-10', 'videoOnDemand', 1, 0, 0, 7, 429, 0], ['2022-10-14', 'videoOnDemand', 2, 0, 0, 2, 84, 0], ['2022-10-24', 'videoOnDemand', 3, 0, 0, 2, 46, 0], ['2022-10-26', 'shorts', 1, 0, 0, 0, 15, 0], ['2022-10-31', 'shorts', 1, 0, 0, 0, 3, 0], ['2022-11-01', 'videoOnDemand', 1, 0, 0, 0, 30, 0], ['2022-11-03', 'videoOnDemand', 2, 0, 0, 0, 24, 0], ['2022-11-05', 'videoOnDemand', 1, 0, 0, 0, 3, 0], ['2022-11-07', 'videoOnDemand', 1, 0, 0, 8, 531, 0], ['2022-11-08', 'videoOnDemand', 2, 0, 0, 0, 9, 0], ['2022-11-09', 'videoOnDemand', 1, 0, 0, 0, 10, 0], ['2022-11-10', 'videoOnDemand', 2, 0, 0, 2, 61, 0], ['2022-11-12', 'videoOnDemand', 1, 0, 0, 0, 12, 0], ['2022-11-14', 'videoOnDemand', 4, 0, 0, 0, 6, 0], ['2022-11-15', 'videoOnDemand', 2, 0, 0, 1, 48, 0], ['2022-11-16', 'videoOnDemand', 1, 0, 0, 0, 4, 0], ['2022-11-17', 'videoOnDemand', 1, 0, 0, 0, 14, 0], ['2022-11-22', 'shorts', 1, 0, 0, 0, 3, 0], ['2022-11-23', 'videoOnDemand', 1, 0, 0, 0, 8, 0], ['2022-11-30', 'videoOnDemand', 1, 0, 0, 1, 108, 0], ['2022-12-04', 'videoOnDemand', 1, 0, 1, 0, 30, 0], ['2022-12-05', 'videoOnDemand', 1, 0, 0, 1, 93, 0], ['2022-12-08', 'videoOnDemand', 1, 0, 0, 2, 168, 0], ['2022-12-09', 'videoOnDemand', 1, 0, 0, 0, 3, 0], ['2022-12-10', 'shorts', 1, 0, 0, 0, 0, 0], ['2022-12-17', 'shorts', 1, 0, 0, 0, 13, 0], ['2022-12-22', 'videoOnDemand', 1, 0, 0, 0, 24, 0], ['2022-12-25', 'videoOnDemand', 1, 0, 0, 4, 244, 0], ['2022-12-26', 'videoOnDemand', 1, 0, 0, 0, 6, 0], ['2022-12-28', 'liveStream', 1, 0, 0, 0, 16, 0], ['2022-12-29', 'videoOnDemand', 1, 0, 0, 1, 117, 0], ['2023-01-04', 'videoOnDemand', 1, 0, 0, 1, 86, 0], ['2023-01-05', 'videoOnDemand', 2, 0, 0, 0, 13, 0], ['2023-01-08', 'videoOnDemand', 1, 0, 0, 0, 26, 0], ['2023-01-09', 'videoOnDemand', 6, 0, 0, 6, 61, 0], ['2023-01-10', 'videoOnDemand', 6, 0, 0, 7, 74, 0], ['2023-01-12', 'videoOnDemand', 1, 0, 0, 0, 0, 0], ['2023-01-13', 'videoOnDemand', 15, 0, 0, 10, 42, 0], ['2023-01-14', 'videoOnDemand', 13, 1, 0, 28, 133, 0], ['2023-01-15', 'shorts', 1, 0, 0, 0, 16, 0], ['2023-01-15', 'videoOnDemand', 49, 6, 1, 85, 105, 0], ['2023-01-16', 'videoOnDemand', 17, 3, 0, 37, 132, 0], ['2023-01-17', 'videoOnDemand', 5, 0, 0, 10, 128, 0], ['2023-01-18', 'videoOnDemand', 11, 1, 0, 12, 69, 0], ['2023-01-19', 'videoOnDemand', 17, 2, 1, 13, 46, 1], ['2023-01-20', 'videoOnDemand', 13, 1, 0, 9, 42, 0], ['2023-01-21', 'videoOnDemand', 20, 0, 1, 9, 27, 2], ['2023-01-22', 'shorts', 43, 6, 0, 11, 15, 2], ['2023-01-22', 'videoOnDemand', 11, 1, 0, 9, 49, 0], ['2023-01-23', 'creatorContentTypeUnspecified', 0, 0, 1, 0, 0, 0], ['2023-01-23', 'shorts', 194, 5, 1, 55, 17, 0], ['2023-01-23', 'videoOnDemand', 9, 0, 0, 5, 35, 0], ['2023-01-24', 'shorts', 21, 1, 0, 6, 17, 0], ['2023-01-24', 'videoOnDemand', 13, 0, 0, 12, 56, 1], ['2023-01-25', 'shorts', 121, 5, 0, 43, 21, 2], ['2023-01-25', 'videoOnDemand', 2, 0, 0, 0, 20, 0], ['2023-01-26', 'shorts', 4406, 136, 10, 996, 13, 2], ['2023-01-26', 'videoOnDemand', 19, 2, 0, 14, 46, 0], ['2023-01-27', 'liveStream', 1, 0, 0, 0, 2, 0], ['2023-01-27', 'shorts', 2596, 79, 7, 715, 16, 6], ['2023-01-27', 'videoOnDemand', 31, 1, 0, 27, 53, 0], ['2023-01-28', 'liveStream', 7, 0, 0, 2, 20, 0], ['2023-01-28', 'shorts', 1415, 21, 2, 291, 12, 0], ['2023-01-28', 'videoOnDemand', 11, 0, 0, 10, 59, 0], ['2023-01-29', 'shorts', 87, 3, 0, 28, 19, 0], ['2023-01-29', 'videoOnDemand', 11, 0, 0, 13, 74, 2], ['2023-01-30', 'creatorContentTypeUnspecified', 0, 0, 1, 0, 0, 0], ['2023-01-30', 'liveStream', 2, 1, 0, 0, 23, 0], ['2023-01-30', 'shorts', 29, 11, 0, 9, 19, 1], ['2023-01-30', 'videoOnDemand', 3, 0, 0, 2, 45, 0], ['2023-01-31', 'liveStream', 3, 0, 0, 1, 23, 0], ['2023-01-31', 'shorts', 82, 2, 1, 30, 22, 0], ['2023-01-31', 'videoOnDemand', 7, 0, 0, 3, 28, 0], ['2023-02-01', 'shorts', 135, 0, 2, 19, 8, 0], ['2023-02-01', 'videoOnDemand', 9, 0, 0, 11, 77, 0], ['2023-02-02', 'liveStream', 1, 0, 0, 0, 15, 0], ['2023-02-02', 'shorts', 14, 1, 0, 4, 21, 0], ['2023-02-02', 'videoOnDemand', 6, 0, 0, 8, 88, 0], ['2023-02-03', 'shorts', 11, 0, 0, 2, 14, 0], ['2023-02-03', 'videoOnDemand', 6, 0, 0, 10, 105, 0], ['2023-02-04', 'shorts', 81, 3, 0, 19, 14, 0], ['2023-02-04', 'videoOnDemand', 6, 1, 0, 12, 121, 0], ['2023-02-05', 'liveStream', 1, 0, 0, 38, 2305, 0], ['2023-02-05', 'shorts', 34, 2, 1, 6, 11, 0], ['2023-02-05', 'videoOnDemand', 6, 0, 0, 9, 93, 0], ['2023-02-06', 'shorts', 42, 0, 0, 9, 13, 0], ['2023-02-06', 'videoOnDemand', 1, 0, 0, 0, 23, 0], ['2023-02-07', 'creatorContentTypeUnspecified', 0, 0, 1, 0, 0, 0], ['2023-02-07', 'shorts', 51, 2, 0, 9, 11, 0], ['2023-02-07', 'videoOnDemand', 10, 1, 0, 6, 39, 0], ['2023-02-08', 'shorts', 47, 2, 1, 8, 11, 0], ['2023-02-08', 'videoOnDemand', 4, 0, 0, 6, 95, 0], ['2023-02-09', 'liveStream', 3, 1, 0, 3, 75, 1], ['2023-02-09', 'shorts', 46, 1, 1, 14, 18, 0], ['2023-02-09', 'videoOnDemand', 5, 0, 0, 2, 27, 0], ['2023-02-10', 'liveStream', 2, 1, 0, 0, 11, 0], ['2023-02-10', 'shorts', 48, 0, 1, 11, 13, 0], ['2023-02-10', 'videoOnDemand', 4, 0, 0, 4, 60, 0], ['2023-02-11', 'liveStream', 4, 0, 0, 53, 808, 0], ['2023-02-11', 'shorts', 172, 3, 0, 33, 11, 0], ['2023-02-11', 'videoOnDemand', 9, 0, 0, 6, 44, 0], ['2023-02-12', 'liveStream', 2, 0, 0, 3, 103, 0], ['2023-02-12', 'shorts', 28, 2, 0, 7, 15, 0], ['2023-02-12', 'videoOnDemand', 7, 0, 0, 2, 23, 0], ['2023-02-13', 'shorts', 87, 0, 0, 17, 12, 0], ['2023-02-13', 'videoOnDemand', 8, 0, 0, 6, 46, 0], ['2023-02-14', 'liveStream', 1, 0, 0, 0, 35, 0], ['2023-02-14', 'shorts', 102, 3, 0, 24, 14, 0], ['2023-02-14', 'videoOnDemand', 2, 0, 0, 1, 36, 1], ['2023-02-15', 'liveStream', 3, 1, 0, 2, 46, 0], ['2023-02-15', 'shorts', 30, 1, 0, 8, 17, 0], ['2023-02-15', 'videoOnDemand', 19, 4, 0, 44, 139, 0], ['2023-02-16', 'shorts', 20, 0, 0, 8, 25, 0], ['2023-02-16', 'videoOnDemand', 7, 1, 0, 6, 51, 0], ['2023-02-17', 'shorts', 13, 0, 0, 6, 28, 0], ['2023-02-17', 'videoOnDemand', 4, 0, 0, 2, 42, 0], ['2023-02-18', 'creatorContentTypeUnspecified', 0, 0, 1, 0, 0, 0], ['2023-02-18', 'liveStream', 1, 0, 0, 0, 44, 0], ['2023-02-18', 'shorts', 9, 0, 0, 3, 20, 0], ['2023-02-18', 'videoOnDemand', 6, 0, 0, 5, 51, 0], ['2023-02-19', 'liveStream', 1, 0, 0, 5, 307, 0], ['2023-02-19', 'shorts', 2144, 48, 2, 427, 11, 14], ['2023-02-19', 'videoOnDemand', 9, 0, 0, 18, 124, 1], ['2023-02-20', 'liveStream', 1, 0, 0, 6, 402, 0], ['2023-02-20', 'shorts', 3259, 52, 10, 701, 12, 2], ['2023-02-20', 'videoOnDemand', 21, 1, 0, 11, 32, 0], ['2023-02-21', 'shorts', 44, -1, 0, 10, 13, 0], ['2023-02-21', 'videoOnDemand', 20, 0, 0, 15, 45, 3], ['2023-02-22', 'liveStream', 1, 0, 0, 0, 46, 0], ['2023-02-22', 'shorts', 1578, 52, 9, 1017, 38, 1], ['2023-02-22', 'videoOnDemand', 26, 1, 0, 12, 27, 0], ['2023-02-23', 'creatorContentTypeUnspecified', 0, 0, 1, 0, 0, 0], ['2023-02-23', 'liveStream', 3, 0, 0, 14, 289, 0], ['2023-02-23', 'shorts', 165, 1, 0, 26, 9, 0], ['2023-02-23', 'videoOnDemand', 13, 1, 0, 31, 143, 1], ['2023-02-24', 'liveStream', 1, 0, 0, 4, 270, 0], ['2023-02-24', 'shorts', 1817, 105, 9, 488, 16, 1], ['2023-02-24', 'videoOnDemand', 11, 2, 0, 8, 45, 1], ['2023-02-25', 'creatorContentTypeUnspecified', 0, 0, 1, 0, 0, 0], ['2023-02-25', 'liveStream', 2, 0, 0, 1, 42, 0], ['2023-02-25', 'shorts', 162, 1, 1, 25, 9, 0], ['2023-02-25', 'videoOnDemand', 30, 4, 0, 24, 49, 0], ['2023-02-26', 'liveStream', 1, 0, 0, 0, 51, 0], ['2023-02-26', 'shorts', 141, 1, 0, 22, 9, 0], ['2023-02-26', 'videoOnDemand', 12, 0, 0, 10, 54, 0], ['2023-02-27', 'shorts', 109, 2, 1, 17, 9, 0], ['2023-02-27', 'videoOnDemand', 5, 0, 0, 1, 19, 0], ['2023-02-28', 'liveStream', 1, 0, 0, 1, 76, 0], ['2023-02-28', 'shorts', 75, -1, 0, 15, 12, 0], ['2023-02-28', 'videoOnDemand', 14, 1, 0, 15, 67, 0], ['2023-03-01', 'liveStream', 1, 0, 0, 0, 13, 0], ['2023-03-01', 'shorts', 11, 0, 1, 2, 12, 0], ['2023-03-01', 'videoOnDemand', 9, 0, 0, 5, 37, 0], ['2023-03-02', 'shorts', 19, 0, 0, 7, 22, 0], ['2023-03-02', 'videoOnDemand', 8, 0, 0, 5, 38, 0], ['2023-03-03', 'liveStream', 4, 0, 0, 16, 251, 0], ['2023-03-03', 'shorts', 724, 22, 4, 335, 27, 2], ['2023-03-03', 'videoOnDemand', 9, 0, 0, 5, 39, 0], ['2023-03-04', 'shorts', 712, 18, 5, 359, 30, 1], ['2023-03-04', 'videoOnDemand', 4, 0, 0, 4, 62, 0], ['2023-03-05', 'shorts', 86, 1, 0, 28, 19, 0], ['2023-03-05', 'videoOnDemand', 9, 1, 0, 9, 63, 0], ['2023-03-06', 'liveStream', 1, 0, 0, 0, 1, 0], ['2023-03-06', 'shorts', 116, 1, 1, 42, 22, 3], ['2023-03-06', 'videoOnDemand', 5, 0, 0, 6, 78, 0], ['2023-03-07', 'liveStream', 13, 1, 0, 81, 373, 0], ['2023-03-07', 'shorts', 125, 1, 0, 49, 23, 0], ['2023-03-07', 'videoOnDemand', 6, 0, 0, 40, 406, 0], ['2023-03-08', 'liveStream', 6, 0, 0, 3, 31, 0], ['2023-03-08', 'shorts', 137, 3, 1, 62, 27, 2], ['2023-03-08', 'videoOnDemand', 6, 0, 0, 3, 33, 0], ['2023-03-09', 'liveStream', 1, 0, 0, 1, 65, 0], ['2023-03-09', 'shorts', 1870, 50, 2, 694, 22, 5], ['2023-03-09', 'videoOnDemand', 9, 1, 0, 10, 67, 0], ['2023-03-10', 'liveStream', 3, 0, 0, 0, 10, 0], ['2023-03-10', 'shorts', 362, 12, 1, 132, 21, 0], ['2023-03-10', 'videoOnDemand', 8, 0, 0, 5, 44, 1], ['2023-03-11', 'shorts', 117, 1, 0, 38, 19, 0], ['2023-03-11', 'videoOnDemand', 3, 0, 0, 2, 50, 0], ['2023-03-12', 'shorts', 65, 0, 1, 21, 19, 0], ['2023-03-12', 'videoOnDemand', 4, 0, 0, 4, 70, 0], ['2023-03-13', 'liveStream', 2, 0, 0, 0, 16, 0], ['2023-03-13', 'shorts', 58, 4, 0, 18, 19, 0], ['2023-03-13', 'videoOnDemand', 16, 3, 0, 10, 41, 0], ['2023-03-14', 'liveStream', 1, 0, 0, 0, 29, 0], ['2023-03-14', 'shorts', 36, -1, 0, 10, 17, 0], ['2023-03-14', 'videoOnDemand', 12, 1, 0, 4, 23, 0], ['2023-03-15', 'shorts', 48, 2, 0, 19, 24, 0], ['2023-03-15', 'videoOnDemand', 3, 0, 0, 1, 26, 0], ['2023-03-16', 'shorts', 45, 1, 0, 19, 25, 1], ['2023-03-16', 'videoOnDemand', 22, 1, 0, 11, 31, 1], ['2023-03-17', 'liveStream', 1, 0, 0, 0, 18, 0], ['2023-03-17', 'shorts', 2030, 53, 5, 458, 13, 2], ['2023-03-17', 'videoOnDemand', 20, 2, 1, 9, 29, 0], ['2023-03-18', 'shorts', 32, 0, 0, 10, 19, 1], ['2023-03-18', 'videoOnDemand', 49, 1, 1, 32, 39, 0], ['2023-03-19', 'shorts', 1933, 50, 5, 544, 16, 9], ['2023-03-19', 'videoOnDemand', 33, 2, 0, 25, 47, 0], ['2023-03-20', 'creatorContentTypeUnspecified', 0, 0, 1, 0, 0, 0], ['2023-03-20', 'liveStream', 1, 0, 0, 2, 146, 0], ['2023-03-20', 'shorts', 1936, 79, 7, 505, 15, 5], ['2023-03-20', 'videoOnDemand', 20, 1, 0, 15, 46, 0], ['2023-03-21', 'shorts', 579, 6, 3, 133, 13, 0], ['2023-03-21', 'videoOnDemand', 23, 1, 0, 14, 37, 0], ['2023-03-22', 'shorts', 57, 1, 0, 26, 28, 0], ['2023-03-22', 'videoOnDemand', 9, 0, 0, 5, 36, 0], ['2023-03-23', 'shorts', 42, 1, 0, 17, 25, 0], ['2023-03-23', 'videoOnDemand', 12, 1, 0, 15, 78, 0], ['2023-03-24', 'shorts', 228, 3, 0, 61, 16, 0], ['2023-03-24', 'videoOnDemand', 13, 0, 0, 8, 41, 0], ['2023-03-25', 'liveStream', 1, 0, 0, 0, 4, 0], ['2023-03-25', 'shorts', 82, 2, 1, 31, 23, 0], ['2023-03-25', 'videoOnDemand', 16, 0, 0, 11, 41, 0], ['2023-03-26', 'creatorContentTypeUnspecified', 0, 0, 1, 0, 0, 0], ['2023-03-26', 'shorts', 64, 1, 0, 25, 23, 0], ['2023-03-26', 'videoOnDemand', 9, 0, 0, 6, 46, 0], ['2023-03-27', 'shorts', 41, -1, 1, 14, 21, 0], ['2023-03-27', 'videoOnDemand', 13, 1, 0, 10, 46, 0], ['2023-03-28', 'shorts', 25, 0, 0, 8, 20, 0], ['2023-03-28', 'videoOnDemand', 7, 0, 0, 7, 63, 0], ['2023-03-29', 'shorts', 22, 0, 0, 6, 17, 0], ['2023-03-29', 'videoOnDemand', 5, 0, 0, 5, 67, 0], ['2023-03-30', 'liveStream', 54, 0, 1, 73, 81, 0], ['2023-03-30', 'shorts', 21, 1, 0, 9, 26, 0], ['2023-03-30', 'videoOnDemand', 8, 0, 0, 5, 40, 0], ['2023-03-31', 'creatorContentTypeUnspecified', 0, 0, 1, 0, 0, 0], ['2023-03-31', 'liveStream', 8, 1, 1, 61, 460, 0], ['2023-03-31', 'shorts', 26, 1, 0, 9, 21, 0], ['2023-03-31', 'videoOnDemand', 11, 0, 0, 4, 25, 0], ['2023-04-01', 'liveStream', 7, 0, 0, 9, 81, 0], ['2023-04-01', 'shorts', 15, 0, 0, 5, 23, 0], ['2023-04-01', 'videoOnDemand', 3, 0, 0, 1, 27, 0], ['2023-04-02', 'liveStream', 5, 0, 0, 1, 14, 0], ['2023-04-02', 'shorts', 22, 0, 0, 7, 20, 0], ['2023-04-02', 'videoOnDemand', 7, 0, 0, 7, 63, 0], ['2023-04-03', 'shorts', 12, 0, 0, 4, 20, 0], ['2023-04-03', 'videoOnDemand', 9, 0, 0, 4, 27, 0], ['2023-04-04', 'liveStream', 1, 0, 0, 2, 154, 0], ['2023-04-04', 'shorts', 18, 0, 0, 6, 22, 0], ['2023-04-04', 'videoOnDemand', 4, 0, 0, 3, 54, 0], ['2023-04-05', 'liveStream', 1, 0, 0, 0, 12, 0], ['2023-04-05', 'shorts', 10, 0, 0, 2, 17, 0], ['2023-04-05', 'videoOnDemand', 8, 0, 0, 11, 85, 0], ['2023-04-06', 'shorts', 1969, 37, 6, 468, 14, 6], ['2023-04-06', 'videoOnDemand', 14, 1, 0, 16, 69, 0], ['2023-04-07', 'liveStream', 2, 0, 0, 1, 41, 0], ['2023-04-07', 'shorts', 25, 1, 0, 6, 16, 0], ['2023-04-07', 'videoOnDemand', 18, 0, 0, 9, 30, 0], ['2023-04-08', 'liveStream', 11, 1, 0, 20, 113, 0], ['2023-04-08', 'shorts', 9, 1, 0, 3, 23, 0], ['2023-04-08', 'videoOnDemand', 5, 0, 0, 3, 43, 0], ['2023-04-09', 'liveStream', 11, 0, 0, 3, 17, 0], ['2023-04-09', 'shorts', 7, 0, 0, 2, 23, 0], ['2023-04-09', 'videoOnDemand', 11, 0, 0, 5, 30, 0], ['2023-04-10', 'liveStream', 9, 0, 0, 2, 16, 0], ['2023-04-10', 'shorts', 12, 0, 0, 2, 12, 0], ['2023-04-10', 'videoOnDemand', 10, 0, 0, 4, 28, 0], ['2023-04-11', 'liveStream', 13, 0, 0, 9, 43, 0], ['2023-04-11', 'shorts', 16, 0, 0, 3, 13, 0], ['2023-04-11', 'videoOnDemand', 23, 1, 0, 15, 40, 0], ['2023-04-12', 'creatorContentTypeUnspecified', 0, 0, 1, 0, 0, 0], ['2023-04-12', 'liveStream', 2, 0, 0, 0, 18, 0], ['2023-04-12', 'shorts', 24, -1, 0, 8, 22, 0], ['2023-04-12', 'videoOnDemand', 37, 2, 0, 44, 71, 0], ['2023-04-13', 'liveStream', 3, 0, 0, 0, 14, 0], ['2023-04-13', 'shorts', 13, 0, 0, 3, 16, 0], ['2023-04-13', 'videoOnDemand', 33, 1, 0, 25, 46, 0], ['2023-04-14', 'liveStream', 4, 0, 0, 5, 86, 0], ['2023-04-14', 'shorts', 12, 0, 0, 2, 11, 0], ['2023-04-14', 'videoOnDemand', 42, 0, 0, 31, 45, 1], ['2023-04-15', 'liveStream', 1, 0, 0, 0, 0, 0], ['2023-04-15', 'shorts', 7, 0, 0, 1, 13, 0], ['2023-04-15', 'videoOnDemand', 33, 0, 1, 21, 39, 0], ['2023-04-16', 'shorts', 5, 0, 0, 0, 7, 0], ['2023-04-16', 'videoOnDemand', 54, 0, 0, 42, 47, 0], ['2023-04-17', 'liveStream', 7, 0, 0, 6, 59, 0], ['2023-04-17', 'shorts', 3, 0, 0, 0, 15, 0], ['2023-04-17', 'videoOnDemand', 31, 1, 0, 25, 49, 0], ['2023-04-18', 'liveStream', 3, 0, 0, 1, 21, 0], ['2023-04-18', 'shorts', 3, 0, 0, 0, 18, 0], ['2023-04-18', 'videoOnDemand', 51, 0, 0, 31, 36, 0], ['2023-04-19', 'liveStream', 1, 0, 0, 0, 5, 0], ['2023-04-19', 'shorts', 12, 0, 0, 3, 16, 0], ['2023-04-19', 'videoOnDemand', 39, 0, 0, 41, 63, 0], ['2023-04-20', 'liveStream', 2, 0, 0, 2, 88, 0], ['2023-04-20', 'shorts', 7, 1, 0, 3, 29, 0], ['2023-04-20', 'videoOnDemand', 29, 0, 0, 17, 35, 0], ['2023-04-21', 'shorts', 13, 0, 0, 4, 21, 0], ['2023-04-21', 'videoOnDemand', 41, 0, 0, 28, 41, 0], ['2023-04-22', 'creatorContentTypeUnspecified', 0, 0, 1, 0, 0, 0], ['2023-04-22', 'liveStream', 31, 1, 1, 102, 199, 0], ['2023-04-22', 'shorts', 1800, 63, 2, 301, 10, 4], ['2023-04-22', 'videoOnDemand', 48, 1, 0, 52, 65, 0], ['2023-04-23', 'creatorContentTypeUnspecified', 0, 0, 1, 0, 0, 0], ['2023-04-23', 'liveStream', 64, 0, 1, 221, 207, 1], ['2023-04-23', 'shorts', 148, 6, 0, 25, 10, 0], ['2023-04-23', 'videoOnDemand', 112, 3, 0, 96, 51, 1], ['2023-04-24', 'liveStream', 129, 1, 1, 238, 111, 0], ['2023-04-24', 'shorts', 50, 0, 0, 15, 18, 0], ['2023-04-24', 'videoOnDemand', 580, 14, 1, 564, 58, 3], ['2023-04-25', 'liveStream', 195, 1, 1, 296, 91, 0], ['2023-04-25', 'shorts', 269, 4, 0, 52, 11, 0], ['2023-04-25', 'videoOnDemand', 56, 0, 0, 47, 50, 0], ['2023-04-26', 'liveStream', 24, 1, 0, 161, 402, 0], ['2023-04-26', 'shorts', 160, 2, 1, 27, 10, 0], ['2023-04-26', 'videoOnDemand', 48, 0, 0, 43, 54, 0], ['2023-04-27', 'creatorContentTypeUnspecified', 0, 0, 1, 0, 0, 0], ['2023-04-27', 'liveStream', 19, 2, 1, 47, 151, 0], ['2023-04-27', 'shorts', 157, 2, 0, 26, 10, 0], ['2023-04-27', 'videoOnDemand', 67, 3, 0, 50, 45, 0], ['2023-04-28', 'liveStream', 83, 3, 0, 147, 106, 0], ['2023-04-28', 'shorts', 39, 4, 1, 7, 12, 1], ['2023-04-28', 'videoOnDemand', 241, 5, 0, 325, 81, 0], ['2023-04-29', 'creatorContentTypeUnspecified', 0, 0, 1, 0, 0, 0], ['2023-04-29', 'liveStream', 95, 3, 1, 335, 211, 0], ['2023-04-29', 'shorts', 10, 0, 0, 2, 14, 0], ['2023-04-29', 'videoOnDemand', 223, 0, 0, 274, 73, 0], ['2023-04-30', 'creatorContentTypeUnspecified', 0, 0, 1, 0, 0, 0], ['2023-04-30', 'liveStream', 61, 1, 0, 192, 189, 2], ['2023-04-30', 'shorts', 32, 1, 0, 11, 20, 0], ['2023-04-30', 'videoOnDemand', 2803, 41, 0, 929, 19, 117], ['2023-05-01', 'liveStream', 42, 1, 0, 90, 128, 0], ['2023-05-01', 'shorts', 1435, 30, 2, 389, 16, 2], ['2023-05-01', 'videoOnDemand', 1389, 14, 0, 390, 16, 60], ['2023-05-02', 'liveStream', 54, 2, 1, 254, 308, 0], ['2023-05-02', 'shorts', 41, 2, 0, 8, 13, 2], ['2023-05-02', 'videoOnDemand', 249, 0, 0, 98, 23, 1], ['2023-05-03', 'liveStream', 22, 1, 0, 30, 87, 0], ['2023-05-03', 'shorts', 23, -1, 0, 5, 14, 0], ['2023-05-03', 'videoOnDemand', 98, 0, 0, 73, 44, 0], ['2023-05-04', 'liveStream', 10, 0, 0, 6, 39, 0], ['2023-05-04', 'shorts', 19, 0, 0, 6, 21, 0], ['2023-05-04', 'videoOnDemand', 78, 1, 0, 71, 55, 1], ['2023-05-05', 'liveStream', 21, 0, 0, 78, 225, 0], ['2023-05-05', 'shorts', 23, 1, 0, 6, 17, 0], ['2023-05-05', 'videoOnDemand', 88, 4, 0, 67, 46, 2], ['2023-05-06', 'liveStream', 61, 1, 0, 561, 552, 0], ['2023-05-06', 'shorts', 10, 0, 0, 2, 14, 0], ['2023-05-06', 'videoOnDemand', 119, 2, 0, 88, 44, 0], ['2023-05-07', 'liveStream', 53, 0, 0, 75, 85, 0], ['2023-05-07', 'shorts', 18, 0, 0, 5, 18, 0], ['2023-05-07', 'videoOnDemand', 116, 1, 0, 136, 70, 0], ['2023-05-08', 'liveStream', 38, 0, 0, 97, 153, 0], ['2023-05-08', 'shorts', 980, 21, 4, 213, 13, 1], ['2023-05-08', 'videoOnDemand', 99, 1, 0, 78, 47, 0], ['2023-05-09', 'liveStream', 28, 0, 0, 39, 85, 0], ['2023-05-09', 'shorts', 407, 3, 0, 82, 12, 2], ['2023-05-09', 'videoOnDemand', 67, 1, 0, 44, 40, 0], ['2023-05-10', 'liveStream', 8, 0, 0, 7, 52, 0], ['2023-05-10', 'shorts', 8, -2, 0, 1, 12, 0], ['2023-05-10', 'videoOnDemand', 66, 0, 0, 37, 34, 0]]}\n"
     ]
    }
   ],
   "source": [
    "if __name__ == \"__main__\":\n",
    "\n",
    "    # https://developers.google.com/youtube/analytics/data_model\n",
    "    youtubeAnalytics = get_service()\n",
    "    result = execute_api_request(\n",
    "        youtubeAnalytics.reports().query,\n",
    "        ids=\"channel==MINE\",\n",
    "        startDate=\"2022-01-01\",\n",
    "        endDate=today,\n",
    "        metrics=\"views,likes,subscribersGained,estimatedMinutesWatched,averageViewDuration,shares\",\n",
    "        dimensions=\"day,creatorContentType\",\n",
    "        sort=\"day\"\n",
    "    )"
   ]
  },
  {
   "cell_type": "code",
   "execution_count": 7,
   "metadata": {},
   "outputs": [
    {
     "data": {
      "text/plain": [
       "['day',\n",
       " 'creatorContentType',\n",
       " 'views',\n",
       " 'likes',\n",
       " 'subscribersGained',\n",
       " 'estimatedMinutesWatched',\n",
       " 'averageViewDuration',\n",
       " 'shares']"
      ]
     },
     "execution_count": 7,
     "metadata": {},
     "output_type": "execute_result"
    }
   ],
   "source": [
    "columns = [\n",
    "    result['columnHeaders'][0]['name'],\n",
    "    result['columnHeaders'][1]['name'],\n",
    "    result['columnHeaders'][2]['name'],\n",
    "    result['columnHeaders'][3]['name'],\n",
    "    result['columnHeaders'][4]['name'],\n",
    "    result['columnHeaders'][5]['name'],\n",
    "    result['columnHeaders'][6]['name'],\n",
    "    result['columnHeaders'][7]['name']\n",
    "]\n",
    "columns"
   ]
  },
  {
   "cell_type": "code",
   "execution_count": 8,
   "metadata": {},
   "outputs": [
    {
     "data": {
      "text/html": [
       "<div>\n",
       "<style scoped>\n",
       "    .dataframe tbody tr th:only-of-type {\n",
       "        vertical-align: middle;\n",
       "    }\n",
       "\n",
       "    .dataframe tbody tr th {\n",
       "        vertical-align: top;\n",
       "    }\n",
       "\n",
       "    .dataframe thead th {\n",
       "        text-align: right;\n",
       "    }\n",
       "</style>\n",
       "<table border=\"1\" class=\"dataframe\">\n",
       "  <thead>\n",
       "    <tr style=\"text-align: right;\">\n",
       "      <th></th>\n",
       "      <th>day</th>\n",
       "      <th>creatorContentType</th>\n",
       "      <th>views</th>\n",
       "      <th>likes</th>\n",
       "      <th>subscribersGained</th>\n",
       "      <th>estimatedMinutesWatched</th>\n",
       "      <th>averageViewDuration</th>\n",
       "      <th>shares</th>\n",
       "    </tr>\n",
       "  </thead>\n",
       "  <tbody>\n",
       "    <tr>\n",
       "      <th>0</th>\n",
       "      <td>2022-01-02</td>\n",
       "      <td>videoOnDemand</td>\n",
       "      <td>1</td>\n",
       "      <td>0</td>\n",
       "      <td>0</td>\n",
       "      <td>0</td>\n",
       "      <td>58</td>\n",
       "      <td>0</td>\n",
       "    </tr>\n",
       "    <tr>\n",
       "      <th>1</th>\n",
       "      <td>2022-01-03</td>\n",
       "      <td>videoOnDemand</td>\n",
       "      <td>2</td>\n",
       "      <td>0</td>\n",
       "      <td>0</td>\n",
       "      <td>1</td>\n",
       "      <td>45</td>\n",
       "      <td>0</td>\n",
       "    </tr>\n",
       "    <tr>\n",
       "      <th>2</th>\n",
       "      <td>2022-01-05</td>\n",
       "      <td>videoOnDemand</td>\n",
       "      <td>1</td>\n",
       "      <td>0</td>\n",
       "      <td>0</td>\n",
       "      <td>3</td>\n",
       "      <td>202</td>\n",
       "      <td>0</td>\n",
       "    </tr>\n",
       "    <tr>\n",
       "      <th>3</th>\n",
       "      <td>2022-01-06</td>\n",
       "      <td>shorts</td>\n",
       "      <td>1</td>\n",
       "      <td>0</td>\n",
       "      <td>0</td>\n",
       "      <td>0</td>\n",
       "      <td>2</td>\n",
       "      <td>0</td>\n",
       "    </tr>\n",
       "    <tr>\n",
       "      <th>4</th>\n",
       "      <td>2022-01-07</td>\n",
       "      <td>videoOnDemand</td>\n",
       "      <td>2</td>\n",
       "      <td>0</td>\n",
       "      <td>0</td>\n",
       "      <td>1</td>\n",
       "      <td>58</td>\n",
       "      <td>0</td>\n",
       "    </tr>\n",
       "    <tr>\n",
       "      <th>...</th>\n",
       "      <td>...</td>\n",
       "      <td>...</td>\n",
       "      <td>...</td>\n",
       "      <td>...</td>\n",
       "      <td>...</td>\n",
       "      <td>...</td>\n",
       "      <td>...</td>\n",
       "      <td>...</td>\n",
       "    </tr>\n",
       "    <tr>\n",
       "      <th>506</th>\n",
       "      <td>2023-05-09</td>\n",
       "      <td>shorts</td>\n",
       "      <td>407</td>\n",
       "      <td>3</td>\n",
       "      <td>0</td>\n",
       "      <td>82</td>\n",
       "      <td>12</td>\n",
       "      <td>2</td>\n",
       "    </tr>\n",
       "    <tr>\n",
       "      <th>507</th>\n",
       "      <td>2023-05-09</td>\n",
       "      <td>videoOnDemand</td>\n",
       "      <td>67</td>\n",
       "      <td>1</td>\n",
       "      <td>0</td>\n",
       "      <td>44</td>\n",
       "      <td>40</td>\n",
       "      <td>0</td>\n",
       "    </tr>\n",
       "    <tr>\n",
       "      <th>508</th>\n",
       "      <td>2023-05-10</td>\n",
       "      <td>liveStream</td>\n",
       "      <td>8</td>\n",
       "      <td>0</td>\n",
       "      <td>0</td>\n",
       "      <td>7</td>\n",
       "      <td>52</td>\n",
       "      <td>0</td>\n",
       "    </tr>\n",
       "    <tr>\n",
       "      <th>509</th>\n",
       "      <td>2023-05-10</td>\n",
       "      <td>shorts</td>\n",
       "      <td>8</td>\n",
       "      <td>-2</td>\n",
       "      <td>0</td>\n",
       "      <td>1</td>\n",
       "      <td>12</td>\n",
       "      <td>0</td>\n",
       "    </tr>\n",
       "    <tr>\n",
       "      <th>510</th>\n",
       "      <td>2023-05-10</td>\n",
       "      <td>videoOnDemand</td>\n",
       "      <td>66</td>\n",
       "      <td>0</td>\n",
       "      <td>0</td>\n",
       "      <td>37</td>\n",
       "      <td>34</td>\n",
       "      <td>0</td>\n",
       "    </tr>\n",
       "  </tbody>\n",
       "</table>\n",
       "<p>511 rows × 8 columns</p>\n",
       "</div>"
      ],
      "text/plain": [
       "            day creatorContentType  views  likes  subscribersGained   \n",
       "0    2022-01-02      videoOnDemand      1      0                  0  \\\n",
       "1    2022-01-03      videoOnDemand      2      0                  0   \n",
       "2    2022-01-05      videoOnDemand      1      0                  0   \n",
       "3    2022-01-06             shorts      1      0                  0   \n",
       "4    2022-01-07      videoOnDemand      2      0                  0   \n",
       "..          ...                ...    ...    ...                ...   \n",
       "506  2023-05-09             shorts    407      3                  0   \n",
       "507  2023-05-09      videoOnDemand     67      1                  0   \n",
       "508  2023-05-10         liveStream      8      0                  0   \n",
       "509  2023-05-10             shorts      8     -2                  0   \n",
       "510  2023-05-10      videoOnDemand     66      0                  0   \n",
       "\n",
       "     estimatedMinutesWatched  averageViewDuration  shares  \n",
       "0                          0                   58       0  \n",
       "1                          1                   45       0  \n",
       "2                          3                  202       0  \n",
       "3                          0                    2       0  \n",
       "4                          1                   58       0  \n",
       "..                       ...                  ...     ...  \n",
       "506                       82                   12       2  \n",
       "507                       44                   40       0  \n",
       "508                        7                   52       0  \n",
       "509                        1                   12       0  \n",
       "510                       37                   34       0  \n",
       "\n",
       "[511 rows x 8 columns]"
      ]
     },
     "execution_count": 8,
     "metadata": {},
     "output_type": "execute_result"
    }
   ],
   "source": [
    "df = pd.DataFrame(result[\"rows\"])\n",
    "df.columns = columns\n",
    "df"
   ]
  },
  {
   "cell_type": "code",
   "execution_count": 9,
   "metadata": {},
   "outputs": [
    {
     "name": "stderr",
     "output_type": "stream",
     "text": [
      "C:\\Users\\rober\\AppData\\Local\\Temp\\ipykernel_4340\\2422034951.py:3: SettingWithCopyWarning: \n",
      "A value is trying to be set on a copy of a slice from a DataFrame.\n",
      "Try using .loc[row_indexer,col_indexer] = value instead\n",
      "\n",
      "See the caveats in the documentation: https://pandas.pydata.org/pandas-docs/stable/user_guide/indexing.html#returning-a-view-versus-a-copy\n",
      "  df_video_and_live['watch_hours'] = df_video_and_live['estimatedMinutesWatched'] / 60\n",
      "C:\\Users\\rober\\AppData\\Local\\Temp\\ipykernel_4340\\2422034951.py:4: SettingWithCopyWarning: \n",
      "A value is trying to be set on a copy of a slice from a DataFrame.\n",
      "Try using .loc[row_indexer,col_indexer] = value instead\n",
      "\n",
      "See the caveats in the documentation: https://pandas.pydata.org/pandas-docs/stable/user_guide/indexing.html#returning-a-view-versus-a-copy\n",
      "  df_video_and_live['cumulative_watch_hours'] = df_video_and_live['watch_hours'].cumsum()\n",
      "C:\\Users\\rober\\AppData\\Local\\Temp\\ipykernel_4340\\2422034951.py:5: SettingWithCopyWarning: \n",
      "A value is trying to be set on a copy of a slice from a DataFrame.\n",
      "Try using .loc[row_indexer,col_indexer] = value instead\n",
      "\n",
      "See the caveats in the documentation: https://pandas.pydata.org/pandas-docs/stable/user_guide/indexing.html#returning-a-view-versus-a-copy\n",
      "  df_video_and_live['partner_goal_watch_hours'] = 4000\n"
     ]
    },
    {
     "data": {
      "text/html": [
       "<div>\n",
       "<style scoped>\n",
       "    .dataframe tbody tr th:only-of-type {\n",
       "        vertical-align: middle;\n",
       "    }\n",
       "\n",
       "    .dataframe tbody tr th {\n",
       "        vertical-align: top;\n",
       "    }\n",
       "\n",
       "    .dataframe thead th {\n",
       "        text-align: right;\n",
       "    }\n",
       "</style>\n",
       "<table border=\"1\" class=\"dataframe\">\n",
       "  <thead>\n",
       "    <tr style=\"text-align: right;\">\n",
       "      <th></th>\n",
       "      <th>day</th>\n",
       "      <th>creatorContentType</th>\n",
       "      <th>views</th>\n",
       "      <th>likes</th>\n",
       "      <th>subscribersGained</th>\n",
       "      <th>estimatedMinutesWatched</th>\n",
       "      <th>averageViewDuration</th>\n",
       "      <th>shares</th>\n",
       "      <th>watch_hours</th>\n",
       "      <th>cumulative_watch_hours</th>\n",
       "      <th>partner_goal_watch_hours</th>\n",
       "    </tr>\n",
       "  </thead>\n",
       "  <tbody>\n",
       "    <tr>\n",
       "      <th>0</th>\n",
       "      <td>2022-01-02</td>\n",
       "      <td>videoOnDemand</td>\n",
       "      <td>1</td>\n",
       "      <td>0</td>\n",
       "      <td>0</td>\n",
       "      <td>0</td>\n",
       "      <td>58</td>\n",
       "      <td>0</td>\n",
       "      <td>0.000000</td>\n",
       "      <td>0.000000</td>\n",
       "      <td>4000</td>\n",
       "    </tr>\n",
       "    <tr>\n",
       "      <th>1</th>\n",
       "      <td>2022-01-03</td>\n",
       "      <td>videoOnDemand</td>\n",
       "      <td>2</td>\n",
       "      <td>0</td>\n",
       "      <td>0</td>\n",
       "      <td>1</td>\n",
       "      <td>45</td>\n",
       "      <td>0</td>\n",
       "      <td>0.016667</td>\n",
       "      <td>0.016667</td>\n",
       "      <td>4000</td>\n",
       "    </tr>\n",
       "    <tr>\n",
       "      <th>2</th>\n",
       "      <td>2022-01-05</td>\n",
       "      <td>videoOnDemand</td>\n",
       "      <td>1</td>\n",
       "      <td>0</td>\n",
       "      <td>0</td>\n",
       "      <td>3</td>\n",
       "      <td>202</td>\n",
       "      <td>0</td>\n",
       "      <td>0.050000</td>\n",
       "      <td>0.066667</td>\n",
       "      <td>4000</td>\n",
       "    </tr>\n",
       "    <tr>\n",
       "      <th>4</th>\n",
       "      <td>2022-01-07</td>\n",
       "      <td>videoOnDemand</td>\n",
       "      <td>2</td>\n",
       "      <td>0</td>\n",
       "      <td>0</td>\n",
       "      <td>1</td>\n",
       "      <td>58</td>\n",
       "      <td>0</td>\n",
       "      <td>0.016667</td>\n",
       "      <td>0.083333</td>\n",
       "      <td>4000</td>\n",
       "    </tr>\n",
       "    <tr>\n",
       "      <th>5</th>\n",
       "      <td>2022-01-08</td>\n",
       "      <td>videoOnDemand</td>\n",
       "      <td>1</td>\n",
       "      <td>0</td>\n",
       "      <td>0</td>\n",
       "      <td>0</td>\n",
       "      <td>16</td>\n",
       "      <td>0</td>\n",
       "      <td>0.000000</td>\n",
       "      <td>0.083333</td>\n",
       "      <td>4000</td>\n",
       "    </tr>\n",
       "    <tr>\n",
       "      <th>...</th>\n",
       "      <td>...</td>\n",
       "      <td>...</td>\n",
       "      <td>...</td>\n",
       "      <td>...</td>\n",
       "      <td>...</td>\n",
       "      <td>...</td>\n",
       "      <td>...</td>\n",
       "      <td>...</td>\n",
       "      <td>...</td>\n",
       "      <td>...</td>\n",
       "      <td>...</td>\n",
       "    </tr>\n",
       "    <tr>\n",
       "      <th>504</th>\n",
       "      <td>2023-05-08</td>\n",
       "      <td>videoOnDemand</td>\n",
       "      <td>99</td>\n",
       "      <td>1</td>\n",
       "      <td>0</td>\n",
       "      <td>78</td>\n",
       "      <td>47</td>\n",
       "      <td>0</td>\n",
       "      <td>1.300000</td>\n",
       "      <td>138.033333</td>\n",
       "      <td>4000</td>\n",
       "    </tr>\n",
       "    <tr>\n",
       "      <th>505</th>\n",
       "      <td>2023-05-09</td>\n",
       "      <td>liveStream</td>\n",
       "      <td>28</td>\n",
       "      <td>0</td>\n",
       "      <td>0</td>\n",
       "      <td>39</td>\n",
       "      <td>85</td>\n",
       "      <td>0</td>\n",
       "      <td>0.650000</td>\n",
       "      <td>138.683333</td>\n",
       "      <td>4000</td>\n",
       "    </tr>\n",
       "    <tr>\n",
       "      <th>507</th>\n",
       "      <td>2023-05-09</td>\n",
       "      <td>videoOnDemand</td>\n",
       "      <td>67</td>\n",
       "      <td>1</td>\n",
       "      <td>0</td>\n",
       "      <td>44</td>\n",
       "      <td>40</td>\n",
       "      <td>0</td>\n",
       "      <td>0.733333</td>\n",
       "      <td>139.416667</td>\n",
       "      <td>4000</td>\n",
       "    </tr>\n",
       "    <tr>\n",
       "      <th>508</th>\n",
       "      <td>2023-05-10</td>\n",
       "      <td>liveStream</td>\n",
       "      <td>8</td>\n",
       "      <td>0</td>\n",
       "      <td>0</td>\n",
       "      <td>7</td>\n",
       "      <td>52</td>\n",
       "      <td>0</td>\n",
       "      <td>0.116667</td>\n",
       "      <td>139.533333</td>\n",
       "      <td>4000</td>\n",
       "    </tr>\n",
       "    <tr>\n",
       "      <th>510</th>\n",
       "      <td>2023-05-10</td>\n",
       "      <td>videoOnDemand</td>\n",
       "      <td>66</td>\n",
       "      <td>0</td>\n",
       "      <td>0</td>\n",
       "      <td>37</td>\n",
       "      <td>34</td>\n",
       "      <td>0</td>\n",
       "      <td>0.616667</td>\n",
       "      <td>140.150000</td>\n",
       "      <td>4000</td>\n",
       "    </tr>\n",
       "  </tbody>\n",
       "</table>\n",
       "<p>354 rows × 11 columns</p>\n",
       "</div>"
      ],
      "text/plain": [
       "            day creatorContentType  views  likes  subscribersGained   \n",
       "0    2022-01-02      videoOnDemand      1      0                  0  \\\n",
       "1    2022-01-03      videoOnDemand      2      0                  0   \n",
       "2    2022-01-05      videoOnDemand      1      0                  0   \n",
       "4    2022-01-07      videoOnDemand      2      0                  0   \n",
       "5    2022-01-08      videoOnDemand      1      0                  0   \n",
       "..          ...                ...    ...    ...                ...   \n",
       "504  2023-05-08      videoOnDemand     99      1                  0   \n",
       "505  2023-05-09         liveStream     28      0                  0   \n",
       "507  2023-05-09      videoOnDemand     67      1                  0   \n",
       "508  2023-05-10         liveStream      8      0                  0   \n",
       "510  2023-05-10      videoOnDemand     66      0                  0   \n",
       "\n",
       "     estimatedMinutesWatched  averageViewDuration  shares  watch_hours   \n",
       "0                          0                   58       0     0.000000  \\\n",
       "1                          1                   45       0     0.016667   \n",
       "2                          3                  202       0     0.050000   \n",
       "4                          1                   58       0     0.016667   \n",
       "5                          0                   16       0     0.000000   \n",
       "..                       ...                  ...     ...          ...   \n",
       "504                       78                   47       0     1.300000   \n",
       "505                       39                   85       0     0.650000   \n",
       "507                       44                   40       0     0.733333   \n",
       "508                        7                   52       0     0.116667   \n",
       "510                       37                   34       0     0.616667   \n",
       "\n",
       "     cumulative_watch_hours  partner_goal_watch_hours  \n",
       "0                  0.000000                      4000  \n",
       "1                  0.016667                      4000  \n",
       "2                  0.066667                      4000  \n",
       "4                  0.083333                      4000  \n",
       "5                  0.083333                      4000  \n",
       "..                      ...                       ...  \n",
       "504              138.033333                      4000  \n",
       "505              138.683333                      4000  \n",
       "507              139.416667                      4000  \n",
       "508              139.533333                      4000  \n",
       "510              140.150000                      4000  \n",
       "\n",
       "[354 rows x 11 columns]"
      ]
     },
     "execution_count": 9,
     "metadata": {},
     "output_type": "execute_result"
    }
   ],
   "source": [
    "# Filter out shorts and creatorContentTypeUnspecified\n",
    "df_video_and_live = df[~df.creatorContentType.isin(['shorts', 'creatorContentTypeUnspecified'])]\n",
    "df_video_and_live['watch_hours'] = df_video_and_live['estimatedMinutesWatched'] / 60\n",
    "df_video_and_live['cumulative_watch_hours'] = df_video_and_live['watch_hours'].cumsum()\n",
    "df_video_and_live['partner_goal_watch_hours'] = 4000\n",
    "df_video_and_live"
   ]
  },
  {
   "cell_type": "code",
   "execution_count": 10,
   "metadata": {},
   "outputs": [],
   "source": [
    "df_video_and_live_2023 = df_video_and_live[df_video_and_live['day'] > '2023-03-01']"
   ]
  },
  {
   "cell_type": "code",
   "execution_count": 11,
   "metadata": {},
   "outputs": [
    {
     "data": {
      "text/plain": [
       "<Axes: xlabel='day', ylabel='watch_hours'>"
      ]
     },
     "execution_count": 11,
     "metadata": {},
     "output_type": "execute_result"
    },
    {
     "data": {
      "image/png": "[encoded data removed]",
      "text/plain": [
       "<Figure size 1500x500 with 1 Axes>"
      ]
     },
     "metadata": {},
     "output_type": "display_data"
    }
   ],
   "source": [
    "sns.set(rc={'figure.figsize':(15, 5)})\n",
    "plt.xticks(rotation=90)\n",
    "sns.lineplot(data=df_video_and_live_2023,\n",
    "             x=\"day\",\n",
    "             y=\"watch_hours\",\n",
    "             hue=\"creatorContentType\")\n",
    "\n",
    "\n"
   ]
  },
  {
   "cell_type": "code",
   "execution_count": 12,
   "metadata": {},
   "outputs": [
    {
     "data": {
      "text/plain": [
       "<Axes: xlabel='day', ylabel='cumulative_watch_hours'>"
      ]
     },
     "execution_count": 12,
     "metadata": {},
     "output_type": "execute_result"
    },
    {
     "data": {
      "image/png": "[encoded data removed]",
      "text/plain": [
       "<Figure size 1500x500 with 1 Axes>"
      ]
     },
     "metadata": {},
     "output_type": "display_data"
    }
   ],
   "source": [
    "sns.set(rc={'figure.figsize':(15, 5)})\n",
    "plt.xticks(rotation=90)\n",
    "sns.barplot(data=df_video_and_live_2023,\n",
    "             x=\"day\",\n",
    "             y=\"cumulative_watch_hours\")"
   ]
  },
  {
   "cell_type": "code",
   "execution_count": 13,
   "metadata": {},
   "outputs": [
    {
     "data": {
      "text/plain": [
       "<Axes: xlabel='creatorContentType', ylabel='watch_hours'>"
      ]
     },
     "execution_count": 13,
     "metadata": {},
     "output_type": "execute_result"
    },
    {
     "data": {
      "image/png": "[encoded data removed]",
      "text/plain": [
       "<Figure size 500x1000 with 1 Axes>"
      ]
     },
     "metadata": {},
     "output_type": "display_data"
    }
   ],
   "source": [
    "sns.set(rc={'figure.figsize':(5, 10)})\n",
    "sns.boxplot(data=df_video_and_live_2023,\n",
    "            x=\"creatorContentType\",\n",
    "            y=\"watch_hours\")"
   ]
  },
  {
   "cell_type": "code",
   "execution_count": 15,
   "metadata": {},
   "outputs": [
    {
     "data": {
      "text/html": [
       "<div>\n",
       "<style scoped>\n",
       "    .dataframe tbody tr th:only-of-type {\n",
       "        vertical-align: middle;\n",
       "    }\n",
       "\n",
       "    .dataframe tbody tr th {\n",
       "        vertical-align: top;\n",
       "    }\n",
       "\n",
       "    .dataframe thead th {\n",
       "        text-align: right;\n",
       "    }\n",
       "</style>\n",
       "<table border=\"1\" class=\"dataframe\">\n",
       "  <thead>\n",
       "    <tr style=\"text-align: right;\">\n",
       "      <th></th>\n",
       "      <th>day</th>\n",
       "      <th>creatorContentType</th>\n",
       "      <th>views</th>\n",
       "      <th>likes</th>\n",
       "      <th>subscribersGained</th>\n",
       "      <th>estimatedMinutesWatched</th>\n",
       "      <th>averageViewDuration</th>\n",
       "      <th>shares</th>\n",
       "      <th>watch_hours</th>\n",
       "      <th>cumulative_watch_hours</th>\n",
       "      <th>partner_goal_watch_hours</th>\n",
       "    </tr>\n",
       "  </thead>\n",
       "  <tbody>\n",
       "    <tr>\n",
       "      <th>314</th>\n",
       "      <td>2023-03-02</td>\n",
       "      <td>videoOnDemand</td>\n",
       "      <td>8</td>\n",
       "      <td>0</td>\n",
       "      <td>0</td>\n",
       "      <td>5</td>\n",
       "      <td>38</td>\n",
       "      <td>0</td>\n",
       "      <td>0.083333</td>\n",
       "      <td>16.750000</td>\n",
       "      <td>4000</td>\n",
       "    </tr>\n",
       "    <tr>\n",
       "      <th>315</th>\n",
       "      <td>2023-03-03</td>\n",
       "      <td>liveStream</td>\n",
       "      <td>4</td>\n",
       "      <td>0</td>\n",
       "      <td>0</td>\n",
       "      <td>16</td>\n",
       "      <td>251</td>\n",
       "      <td>0</td>\n",
       "      <td>0.266667</td>\n",
       "      <td>17.016667</td>\n",
       "      <td>4000</td>\n",
       "    </tr>\n",
       "    <tr>\n",
       "      <th>317</th>\n",
       "      <td>2023-03-03</td>\n",
       "      <td>videoOnDemand</td>\n",
       "      <td>9</td>\n",
       "      <td>0</td>\n",
       "      <td>0</td>\n",
       "      <td>5</td>\n",
       "      <td>39</td>\n",
       "      <td>0</td>\n",
       "      <td>0.083333</td>\n",
       "      <td>17.100000</td>\n",
       "      <td>4000</td>\n",
       "    </tr>\n",
       "    <tr>\n",
       "      <th>319</th>\n",
       "      <td>2023-03-04</td>\n",
       "      <td>videoOnDemand</td>\n",
       "      <td>4</td>\n",
       "      <td>0</td>\n",
       "      <td>0</td>\n",
       "      <td>4</td>\n",
       "      <td>62</td>\n",
       "      <td>0</td>\n",
       "      <td>0.066667</td>\n",
       "      <td>17.166667</td>\n",
       "      <td>4000</td>\n",
       "    </tr>\n",
       "    <tr>\n",
       "      <th>321</th>\n",
       "      <td>2023-03-05</td>\n",
       "      <td>videoOnDemand</td>\n",
       "      <td>9</td>\n",
       "      <td>1</td>\n",
       "      <td>0</td>\n",
       "      <td>9</td>\n",
       "      <td>63</td>\n",
       "      <td>0</td>\n",
       "      <td>0.150000</td>\n",
       "      <td>17.316667</td>\n",
       "      <td>4000</td>\n",
       "    </tr>\n",
       "    <tr>\n",
       "      <th>...</th>\n",
       "      <td>...</td>\n",
       "      <td>...</td>\n",
       "      <td>...</td>\n",
       "      <td>...</td>\n",
       "      <td>...</td>\n",
       "      <td>...</td>\n",
       "      <td>...</td>\n",
       "      <td>...</td>\n",
       "      <td>...</td>\n",
       "      <td>...</td>\n",
       "      <td>...</td>\n",
       "    </tr>\n",
       "    <tr>\n",
       "      <th>504</th>\n",
       "      <td>2023-05-08</td>\n",
       "      <td>videoOnDemand</td>\n",
       "      <td>99</td>\n",
       "      <td>1</td>\n",
       "      <td>0</td>\n",
       "      <td>78</td>\n",
       "      <td>47</td>\n",
       "      <td>0</td>\n",
       "      <td>1.300000</td>\n",
       "      <td>138.033333</td>\n",
       "      <td>4000</td>\n",
       "    </tr>\n",
       "    <tr>\n",
       "      <th>505</th>\n",
       "      <td>2023-05-09</td>\n",
       "      <td>liveStream</td>\n",
       "      <td>28</td>\n",
       "      <td>0</td>\n",
       "      <td>0</td>\n",
       "      <td>39</td>\n",
       "      <td>85</td>\n",
       "      <td>0</td>\n",
       "      <td>0.650000</td>\n",
       "      <td>138.683333</td>\n",
       "      <td>4000</td>\n",
       "    </tr>\n",
       "    <tr>\n",
       "      <th>507</th>\n",
       "      <td>2023-05-09</td>\n",
       "      <td>videoOnDemand</td>\n",
       "      <td>67</td>\n",
       "      <td>1</td>\n",
       "      <td>0</td>\n",
       "      <td>44</td>\n",
       "      <td>40</td>\n",
       "      <td>0</td>\n",
       "      <td>0.733333</td>\n",
       "      <td>139.416667</td>\n",
       "      <td>4000</td>\n",
       "    </tr>\n",
       "    <tr>\n",
       "      <th>508</th>\n",
       "      <td>2023-05-10</td>\n",
       "      <td>liveStream</td>\n",
       "      <td>8</td>\n",
       "      <td>0</td>\n",
       "      <td>0</td>\n",
       "      <td>7</td>\n",
       "      <td>52</td>\n",
       "      <td>0</td>\n",
       "      <td>0.116667</td>\n",
       "      <td>139.533333</td>\n",
       "      <td>4000</td>\n",
       "    </tr>\n",
       "    <tr>\n",
       "      <th>510</th>\n",
       "      <td>2023-05-10</td>\n",
       "      <td>videoOnDemand</td>\n",
       "      <td>66</td>\n",
       "      <td>0</td>\n",
       "      <td>0</td>\n",
       "      <td>37</td>\n",
       "      <td>34</td>\n",
       "      <td>0</td>\n",
       "      <td>0.616667</td>\n",
       "      <td>140.150000</td>\n",
       "      <td>4000</td>\n",
       "    </tr>\n",
       "  </tbody>\n",
       "</table>\n",
       "<p>119 rows × 11 columns</p>\n",
       "</div>"
      ],
      "text/plain": [
       "            day creatorContentType  views  likes  subscribersGained   \n",
       "314  2023-03-02      videoOnDemand      8      0                  0  \\\n",
       "315  2023-03-03         liveStream      4      0                  0   \n",
       "317  2023-03-03      videoOnDemand      9      0                  0   \n",
       "319  2023-03-04      videoOnDemand      4      0                  0   \n",
       "321  2023-03-05      videoOnDemand      9      1                  0   \n",
       "..          ...                ...    ...    ...                ...   \n",
       "504  2023-05-08      videoOnDemand     99      1                  0   \n",
       "505  2023-05-09         liveStream     28      0                  0   \n",
       "507  2023-05-09      videoOnDemand     67      1                  0   \n",
       "508  2023-05-10         liveStream      8      0                  0   \n",
       "510  2023-05-10      videoOnDemand     66      0                  0   \n",
       "\n",
       "     estimatedMinutesWatched  averageViewDuration  shares  watch_hours   \n",
       "314                        5                   38       0     0.083333  \\\n",
       "315                       16                  251       0     0.266667   \n",
       "317                        5                   39       0     0.083333   \n",
       "319                        4                   62       0     0.066667   \n",
       "321                        9                   63       0     0.150000   \n",
       "..                       ...                  ...     ...          ...   \n",
       "504                       78                   47       0     1.300000   \n",
       "505                       39                   85       0     0.650000   \n",
       "507                       44                   40       0     0.733333   \n",
       "508                        7                   52       0     0.116667   \n",
       "510                       37                   34       0     0.616667   \n",
       "\n",
       "     cumulative_watch_hours  partner_goal_watch_hours  \n",
       "314               16.750000                      4000  \n",
       "315               17.016667                      4000  \n",
       "317               17.100000                      4000  \n",
       "319               17.166667                      4000  \n",
       "321               17.316667                      4000  \n",
       "..                      ...                       ...  \n",
       "504              138.033333                      4000  \n",
       "505              138.683333                      4000  \n",
       "507              139.416667                      4000  \n",
       "508              139.533333                      4000  \n",
       "510              140.150000                      4000  \n",
       "\n",
       "[119 rows x 11 columns]"
      ]
     },
     "execution_count": 15,
     "metadata": {},
     "output_type": "execute_result"
    }
   ],
   "source": [
    "df_video_and_live_2023"
   ]
  },
  {
   "cell_type": "code",
   "execution_count": 17,
   "metadata": {},
   "outputs": [
    {
     "data": {
      "application/vnd.plotly.v1+json": {
       "config": {
        "plotlyServerURL": "https://plot.ly"
       },
       "data": [
        {
         "hovertemplate": "day=%{x}<br>cumulative_watch_hours=%{y}<extra></extra>",
         "legendgroup": "",
         "line": {
          "color": "#636efa",
          "dash": "solid"
         },
         "marker": {
          "symbol": "circle"
         },
         "mode": "lines",
         "name": "",
         "orientation": "v",
         "showlegend": false,
         "type": "scatter",
         "x": [
          "2023-03-02",
          "2023-03-03",
          "2023-03-03",
          "2023-03-04",
          "2023-03-05",
          "2023-03-06",
          "2023-03-06",
          "2023-03-07",
          "2023-03-07",
          "2023-03-08",
          "2023-03-08",
          "2023-03-09",
          "2023-03-09",
          "2023-03-10",
          "2023-03-10",
          "2023-03-11",
          "2023-03-12",
          "2023-03-13",
          "2023-03-13",
          "2023-03-14",
          "2023-03-14",
          "2023-03-15",
          "2023-03-16",
          "2023-03-17",
          "2023-03-17",
          "2023-03-18",
          "2023-03-19",
          "2023-03-20",
          "2023-03-20",
          "2023-03-21",
          "2023-03-22",
          "2023-03-23",
          "2023-03-24",
          "2023-03-25",
          "2023-03-25",
          "2023-03-26",
          "2023-03-27",
          "2023-03-28",
          "2023-03-29",
          "2023-03-30",
          "2023-03-30",
          "2023-03-31",
          "2023-03-31",
          "2023-04-01",
          "2023-04-01",
          "2023-04-02",
          "2023-04-02",
          "2023-04-03",
          "2023-04-04",
          "2023-04-04",
          "2023-04-05",
          "2023-04-05",
          "2023-04-06",
          "2023-04-07",
          "2023-04-07",
          "2023-04-08",
          "2023-04-08",
          "2023-04-09",
          "2023-04-09",
          "2023-04-10",
          "2023-04-10",
          "2023-04-11",
          "2023-04-11",
          "2023-04-12",
          "2023-04-12",
          "2023-04-13",
          "2023-04-13",
          "2023-04-14",
          "2023-04-14",
          "2023-04-15",
          "2023-04-15",
          "2023-04-16",
          "2023-04-17",
          "2023-04-17",
          "2023-04-18",
          "2023-04-18",
          "2023-04-19",
          "2023-04-19",
          "2023-04-20",
          "2023-04-20",
          "2023-04-21",
          "2023-04-22",
          "2023-04-22",
          "2023-04-23",
          "2023-04-23",
          "2023-04-24",
          "2023-04-24",
          "2023-04-25",
          "2023-04-25",
          "2023-04-26",
          "2023-04-26",
          "2023-04-27",
          "2023-04-27",
          "2023-04-28",
          "2023-04-28",
          "2023-04-29",
          "2023-04-29",
          "2023-04-30",
          "2023-04-30",
          "2023-05-01",
          "2023-05-01",
          "2023-05-02",
          "2023-05-02",
          "2023-05-03",
          "2023-05-03",
          "2023-05-04",
          "2023-05-04",
          "2023-05-05",
          "2023-05-05",
          "2023-05-06",
          "2023-05-06",
          "2023-05-07",
          "2023-05-07",
          "2023-05-08",
          "2023-05-08",
          "2023-05-09",
          "2023-05-09",
          "2023-05-10",
          "2023-05-10"
         ],
         "xaxis": "x",
         "y": [
          16.749999999999993,
          17.01666666666666,
          17.09999999999999,
          17.166666666666657,
          17.316666666666656,
          17.316666666666656,
          17.416666666666657,
          18.76666666666666,
          19.433333333333326,
          19.483333333333327,
          19.533333333333328,
          19.549999999999994,
          19.71666666666666,
          19.71666666666666,
          19.799999999999994,
          19.83333333333333,
          19.899999999999995,
          19.899999999999995,
          20.066666666666663,
          20.066666666666663,
          20.13333333333333,
          20.149999999999995,
          20.33333333333333,
          20.33333333333333,
          20.483333333333327,
          21.016666666666662,
          21.43333333333333,
          21.466666666666665,
          21.716666666666665,
          21.95,
          22.03333333333333,
          22.28333333333333,
          22.416666666666664,
          22.416666666666664,
          22.599999999999998,
          22.7,
          22.866666666666667,
          22.983333333333334,
          23.066666666666666,
          24.28333333333333,
          24.366666666666664,
          25.38333333333333,
          25.449999999999996,
          25.599999999999994,
          25.61666666666666,
          25.633333333333326,
          25.749999999999993,
          25.81666666666666,
          25.849999999999994,
          25.899999999999995,
          25.899999999999995,
          26.08333333333333,
          26.349999999999994,
          26.36666666666666,
          26.51666666666666,
          26.84999999999999,
          26.89999999999999,
          26.949999999999992,
          27.033333333333324,
          27.06666666666666,
          27.133333333333326,
          27.283333333333324,
          27.533333333333324,
          27.533333333333324,
          28.26666666666666,
          28.26666666666666,
          28.683333333333326,
          28.76666666666666,
          29.283333333333324,
          29.283333333333324,
          29.633333333333326,
          30.333333333333325,
          30.433333333333326,
          30.849999999999994,
          30.86666666666666,
          31.383333333333326,
          31.383333333333326,
          32.066666666666656,
          32.09999999999999,
          32.38333333333332,
          32.84999999999999,
          34.54999999999999,
          35.41666666666666,
          39.09999999999999,
          40.69999999999999,
          44.66666666666666,
          54.066666666666656,
          58.999999999999986,
          59.78333333333332,
          62.46666666666665,
          63.183333333333316,
          63.96666666666665,
          64.79999999999998,
          67.24999999999999,
          72.66666666666666,
          78.24999999999999,
          82.81666666666665,
          86.01666666666665,
          101.49999999999999,
          102.99999999999999,
          109.49999999999999,
          113.73333333333332,
          115.36666666666666,
          115.86666666666666,
          117.08333333333333,
          117.18333333333332,
          118.36666666666666,
          119.66666666666666,
          120.78333333333332,
          130.13333333333333,
          131.6,
          132.85,
          135.11666666666667,
          136.73333333333335,
          138.03333333333336,
          138.68333333333337,
          139.41666666666669,
          139.53333333333336,
          140.15000000000003
         ],
         "yaxis": "y"
        }
       ],
       "layout": {
        "legend": {
         "tracegroupgap": 0
        },
        "margin": {
         "t": 60
        },
        "template": {
         "data": {
          "bar": [
           {
            "error_x": {
             "color": "#2a3f5f"
            },
            "error_y": {
             "color": "#2a3f5f"
            },
            "marker": {
             "line": {
              "color": "#E5ECF6",
              "width": 0.5
             },
             "pattern": {
              "fillmode": "overlay",
              "size": 10,
              "solidity": 0.2
             }
            },
            "type": "bar"
           }
          ],
          "barpolar": [
           {
            "marker": {
             "line": {
              "color": "#E5ECF6",
              "width": 0.5
             },
             "pattern": {
              "fillmode": "overlay",
              "size": 10,
              "solidity": 0.2
             }
            },
            "type": "barpolar"
           }
          ],
          "carpet": [
           {
            "aaxis": {
             "endlinecolor": "#2a3f5f",
             "gridcolor": "white",
             "linecolor": "white",
             "minorgridcolor": "white",
             "startlinecolor": "#2a3f5f"
            },
            "baxis": {
             "endlinecolor": "#2a3f5f",
             "gridcolor": "white",
             "linecolor": "white",
             "minorgridcolor": "white",
             "startlinecolor": "#2a3f5f"
            },
            "type": "carpet"
           }
          ],
          "choropleth": [
           {
            "colorbar": {
             "outlinewidth": 0,
             "ticks": ""
            },
            "type": "choropleth"
           }
          ],
          "contour": [
           {
            "colorbar": {
             "outlinewidth": 0,
             "ticks": ""
            },
            "colorscale": [
             [
              0,
              "#0d0887"
             ],
             [
              0.1111111111111111,
              "#46039f"
             ],
             [
              0.2222222222222222,
              "#7201a8"
             ],
             [
              0.3333333333333333,
              "#9c179e"
             ],
             [
              0.4444444444444444,
              "#bd3786"
             ],
             [
              0.5555555555555556,
              "#d8576b"
             ],
             [
              0.6666666666666666,
              "#ed7953"
             ],
             [
              0.7777777777777778,
              "#fb9f3a"
             ],
             [
              0.8888888888888888,
              "#fdca26"
             ],
             [
              1,
              "#f0f921"
             ]
            ],
            "type": "contour"
           }
          ],
          "contourcarpet": [
           {
            "colorbar": {
             "outlinewidth": 0,
             "ticks": ""
            },
            "type": "contourcarpet"
           }
          ],
          "heatmap": [
           {
            "colorbar": {
             "outlinewidth": 0,
             "ticks": ""
            },
            "colorscale": [
             [
              0,
              "#0d0887"
             ],
             [
              0.1111111111111111,
              "#46039f"
             ],
             [
              0.2222222222222222,
              "#7201a8"
             ],
             [
              0.3333333333333333,
              "#9c179e"
             ],
             [
              0.4444444444444444,
              "#bd3786"
             ],
             [
              0.5555555555555556,
              "#d8576b"
             ],
             [
              0.6666666666666666,
              "#ed7953"
             ],
             [
              0.7777777777777778,
              "#fb9f3a"
             ],
             [
              0.8888888888888888,
              "#fdca26"
             ],
             [
              1,
              "#f0f921"
             ]
            ],
            "type": "heatmap"
           }
          ],
          "heatmapgl": [
           {
            "colorbar": {
             "outlinewidth": 0,
             "ticks": ""
            },
            "colorscale": [
             [
              0,
              "#0d0887"
             ],
             [
              0.1111111111111111,
              "#46039f"
             ],
             [
              0.2222222222222222,
              "#7201a8"
             ],
             [
              0.3333333333333333,
              "#9c179e"
             ],
             [
              0.4444444444444444,
              "#bd3786"
             ],
             [
              0.5555555555555556,
              "#d8576b"
             ],
             [
              0.6666666666666666,
              "#ed7953"
             ],
             [
              0.7777777777777778,
              "#fb9f3a"
             ],
             [
              0.8888888888888888,
              "#fdca26"
             ],
             [
              1,
              "#f0f921"
             ]
            ],
            "type": "heatmapgl"
           }
          ],
          "histogram": [
           {
            "marker": {
             "pattern": {
              "fillmode": "overlay",
              "size": 10,
              "solidity": 0.2
             }
            },
            "type": "histogram"
           }
          ],
          "histogram2d": [
           {
            "colorbar": {
             "outlinewidth": 0,
             "ticks": ""
            },
            "colorscale": [
             [
              0,
              "#0d0887"
             ],
             [
              0.1111111111111111,
              "#46039f"
             ],
             [
              0.2222222222222222,
              "#7201a8"
             ],
             [
              0.3333333333333333,
              "#9c179e"
             ],
             [
              0.4444444444444444,
              "#bd3786"
             ],
             [
              0.5555555555555556,
              "#d8576b"
             ],
             [
              0.6666666666666666,
              "#ed7953"
             ],
             [
              0.7777777777777778,
              "#fb9f3a"
             ],
             [
              0.8888888888888888,
              "#fdca26"
             ],
             [
              1,
              "#f0f921"
             ]
            ],
            "type": "histogram2d"
           }
          ],
          "histogram2dcontour": [
           {
            "colorbar": {
             "outlinewidth": 0,
             "ticks": ""
            },
            "colorscale": [
             [
              0,
              "#0d0887"
             ],
             [
              0.1111111111111111,
              "#46039f"
             ],
             [
              0.2222222222222222,
              "#7201a8"
             ],
             [
              0.3333333333333333,
              "#9c179e"
             ],
             [
              0.4444444444444444,
              "#bd3786"
             ],
             [
              0.5555555555555556,
              "#d8576b"
             ],
             [
              0.6666666666666666,
              "#ed7953"
             ],
             [
              0.7777777777777778,
              "#fb9f3a"
             ],
             [
              0.8888888888888888,
              "#fdca26"
             ],
             [
              1,
              "#f0f921"
             ]
            ],
            "type": "histogram2dcontour"
           }
          ],
          "mesh3d": [
           {
            "colorbar": {
             "outlinewidth": 0,
             "ticks": ""
            },
            "type": "mesh3d"
           }
          ],
          "parcoords": [
           {
            "line": {
             "colorbar": {
              "outlinewidth": 0,
              "ticks": ""
             }
            },
            "type": "parcoords"
           }
          ],
          "pie": [
           {
            "automargin": true,
            "type": "pie"
           }
          ],
          "scatter": [
           {
            "fillpattern": {
             "fillmode": "overlay",
             "size": 10,
             "solidity": 0.2
            },
            "type": "scatter"
           }
          ],
          "scatter3d": [
           {
            "line": {
             "colorbar": {
              "outlinewidth": 0,
              "ticks": ""
             }
            },
            "marker": {
             "colorbar": {
              "outlinewidth": 0,
              "ticks": ""
             }
            },
            "type": "scatter3d"
           }
          ],
          "scattercarpet": [
           {
            "marker": {
             "colorbar": {
              "outlinewidth": 0,
              "ticks": ""
             }
            },
            "type": "scattercarpet"
           }
          ],
          "scattergeo": [
           {
            "marker": {
             "colorbar": {
              "outlinewidth": 0,
              "ticks": ""
             }
            },
            "type": "scattergeo"
           }
          ],
          "scattergl": [
           {
            "marker": {
             "colorbar": {
              "outlinewidth": 0,
              "ticks": ""
             }
            },
            "type": "scattergl"
           }
          ],
          "scattermapbox": [
           {
            "marker": {
             "colorbar": {
              "outlinewidth": 0,
              "ticks": ""
             }
            },
            "type": "scattermapbox"
           }
          ],
          "scatterpolar": [
           {
            "marker": {
             "colorbar": {
              "outlinewidth": 0,
              "ticks": ""
             }
            },
            "type": "scatterpolar"
           }
          ],
          "scatterpolargl": [
           {
            "marker": {
             "colorbar": {
              "outlinewidth": 0,
              "ticks": ""
             }
            },
            "type": "scatterpolargl"
           }
          ],
          "scatterternary": [
           {
            "marker": {
             "colorbar": {
              "outlinewidth": 0,
              "ticks": ""
             }
            },
            "type": "scatterternary"
           }
          ],
          "surface": [
           {
            "colorbar": {
             "outlinewidth": 0,
             "ticks": ""
            },
            "colorscale": [
             [
              0,
              "#0d0887"
             ],
             [
              0.1111111111111111,
              "#46039f"
             ],
             [
              0.2222222222222222,
              "#7201a8"
             ],
             [
              0.3333333333333333,
              "#9c179e"
             ],
             [
              0.4444444444444444,
              "#bd3786"
             ],
             [
              0.5555555555555556,
              "#d8576b"
             ],
             [
              0.6666666666666666,
              "#ed7953"
             ],
             [
              0.7777777777777778,
              "#fb9f3a"
             ],
             [
              0.8888888888888888,
              "#fdca26"
             ],
             [
              1,
              "#f0f921"
             ]
            ],
            "type": "surface"
           }
          ],
          "table": [
           {
            "cells": {
             "fill": {
              "color": "#EBF0F8"
             },
             "line": {
              "color": "white"
             }
            },
            "header": {
             "fill": {
              "color": "#C8D4E3"
             },
             "line": {
              "color": "white"
             }
            },
            "type": "table"
           }
          ]
         },
         "layout": {
          "annotationdefaults": {
           "arrowcolor": "#2a3f5f",
           "arrowhead": 0,
           "arrowwidth": 1
          },
          "autotypenumbers": "strict",
          "coloraxis": {
           "colorbar": {
            "outlinewidth": 0,
            "ticks": ""
           }
          },
          "colorscale": {
           "diverging": [
            [
             0,
             "#8e0152"
            ],
            [
             0.1,
             "#c51b7d"
            ],
            [
             0.2,
             "#de77ae"
            ],
            [
             0.3,
             "#f1b6da"
            ],
            [
             0.4,
             "#fde0ef"
            ],
            [
             0.5,
             "#f7f7f7"
            ],
            [
             0.6,
             "#e6f5d0"
            ],
            [
             0.7,
             "#b8e186"
            ],
            [
             0.8,
             "#7fbc41"
            ],
            [
             0.9,
             "#4d9221"
            ],
            [
             1,
             "#276419"
            ]
           ],
           "sequential": [
            [
             0,
             "#0d0887"
            ],
            [
             0.1111111111111111,
             "#46039f"
            ],
            [
             0.2222222222222222,
             "#7201a8"
            ],
            [
             0.3333333333333333,
             "#9c179e"
            ],
            [
             0.4444444444444444,
             "#bd3786"
            ],
            [
             0.5555555555555556,
             "#d8576b"
            ],
            [
             0.6666666666666666,
             "#ed7953"
            ],
            [
             0.7777777777777778,
             "#fb9f3a"
            ],
            [
             0.8888888888888888,
             "#fdca26"
            ],
            [
             1,
             "#f0f921"
            ]
           ],
           "sequentialminus": [
            [
             0,
             "#0d0887"
            ],
            [
             0.1111111111111111,
             "#46039f"
            ],
            [
             0.2222222222222222,
             "#7201a8"
            ],
            [
             0.3333333333333333,
             "#9c179e"
            ],
            [
             0.4444444444444444,
             "#bd3786"
            ],
            [
             0.5555555555555556,
             "#d8576b"
            ],
            [
             0.6666666666666666,
             "#ed7953"
            ],
            [
             0.7777777777777778,
             "#fb9f3a"
            ],
            [
             0.8888888888888888,
             "#fdca26"
            ],
            [
             1,
             "#f0f921"
            ]
           ]
          },
          "colorway": [
           "#636efa",
           "#EF553B",
           "#00cc96",
           "#ab63fa",
           "#FFA15A",
           "#19d3f3",
           "#FF6692",
           "#B6E880",
           "#FF97FF",
           "#FECB52"
          ],
          "font": {
           "color": "#2a3f5f"
          },
          "geo": {
           "bgcolor": "white",
           "lakecolor": "white",
           "landcolor": "#E5ECF6",
           "showlakes": true,
           "showland": true,
           "subunitcolor": "white"
          },
          "hoverlabel": {
           "align": "left"
          },
          "hovermode": "closest",
          "mapbox": {
           "style": "light"
          },
          "paper_bgcolor": "white",
          "plot_bgcolor": "#E5ECF6",
          "polar": {
           "angularaxis": {
            "gridcolor": "white",
            "linecolor": "white",
            "ticks": ""
           },
           "bgcolor": "#E5ECF6",
           "radialaxis": {
            "gridcolor": "white",
            "linecolor": "white",
            "ticks": ""
           }
          },
          "scene": {
           "xaxis": {
            "backgroundcolor": "#E5ECF6",
            "gridcolor": "white",
            "gridwidth": 2,
            "linecolor": "white",
            "showbackground": true,
            "ticks": "",
            "zerolinecolor": "white"
           },
           "yaxis": {
            "backgroundcolor": "#E5ECF6",
            "gridcolor": "white",
            "gridwidth": 2,
            "linecolor": "white",
            "showbackground": true,
            "ticks": "",
            "zerolinecolor": "white"
           },
           "zaxis": {
            "backgroundcolor": "#E5ECF6",
            "gridcolor": "white",
            "gridwidth": 2,
            "linecolor": "white",
            "showbackground": true,
            "ticks": "",
            "zerolinecolor": "white"
           }
          },
          "shapedefaults": {
           "line": {
            "color": "#2a3f5f"
           }
          },
          "ternary": {
           "aaxis": {
            "gridcolor": "white",
            "linecolor": "white",
            "ticks": ""
           },
           "baxis": {
            "gridcolor": "white",
            "linecolor": "white",
            "ticks": ""
           },
           "bgcolor": "#E5ECF6",
           "caxis": {
            "gridcolor": "white",
            "linecolor": "white",
            "ticks": ""
           }
          },
          "title": {
           "x": 0.05
          },
          "xaxis": {
           "automargin": true,
           "gridcolor": "white",
           "linecolor": "white",
           "ticks": "",
           "title": {
            "standoff": 15
           },
           "zerolinecolor": "white",
           "zerolinewidth": 2
          },
          "yaxis": {
           "automargin": true,
           "gridcolor": "white",
           "linecolor": "white",
           "ticks": "",
           "title": {
            "standoff": 15
           },
           "zerolinecolor": "white",
           "zerolinewidth": 2
          }
         }
        },
        "xaxis": {
         "anchor": "y",
         "domain": [
          0,
          1
         ],
         "title": {
          "text": "day"
         }
        },
        "yaxis": {
         "anchor": "x",
         "domain": [
          0,
          1
         ],
         "title": {
          "text": "cumulative_watch_hours"
         }
        }
       }
      }
     },
     "metadata": {},
     "output_type": "display_data"
    }
   ],
   "source": [
    "fig1 = px.line(df_video_and_live_2023, x='day', y='cumulative_watch_hours')\n",
    "fig1.show()"
   ]
  },
  {
   "cell_type": "code",
   "execution_count": 23,
   "metadata": {},
   "outputs": [
    {
     "data": {
      "application/vnd.plotly.v1+json": {
       "config": {
        "plotlyServerURL": "https://plot.ly"
       },
       "data": [
        {
         "hovertemplate": "creatorContentType=videoOnDemand<br>day=%{x}<br>watch_hours=%{y}<extra></extra>",
         "legendgroup": "videoOnDemand",
         "line": {
          "color": "#636efa",
          "dash": "solid"
         },
         "marker": {
          "symbol": "circle"
         },
         "mode": "lines",
         "name": "videoOnDemand",
         "orientation": "v",
         "showlegend": true,
         "type": "scatter",
         "x": [
          "2023-03-02",
          "2023-03-03",
          "2023-03-04",
          "2023-03-05",
          "2023-03-06",
          "2023-03-07",
          "2023-03-08",
          "2023-03-09",
          "2023-03-10",
          "2023-03-11",
          "2023-03-12",
          "2023-03-13",
          "2023-03-14",
          "2023-03-15",
          "2023-03-16",
          "2023-03-17",
          "2023-03-18",
          "2023-03-19",
          "2023-03-20",
          "2023-03-21",
          "2023-03-22",
          "2023-03-23",
          "2023-03-24",
          "2023-03-25",
          "2023-03-26",
          "2023-03-27",
          "2023-03-28",
          "2023-03-29",
          "2023-03-30",
          "2023-03-31",
          "2023-04-01",
          "2023-04-02",
          "2023-04-03",
          "2023-04-04",
          "2023-04-05",
          "2023-04-06",
          "2023-04-07",
          "2023-04-08",
          "2023-04-09",
          "2023-04-10",
          "2023-04-11",
          "2023-04-12",
          "2023-04-13",
          "2023-04-14",
          "2023-04-15",
          "2023-04-16",
          "2023-04-17",
          "2023-04-18",
          "2023-04-19",
          "2023-04-20",
          "2023-04-21",
          "2023-04-22",
          "2023-04-23",
          "2023-04-24",
          "2023-04-25",
          "2023-04-26",
          "2023-04-27",
          "2023-04-28",
          "2023-04-29",
          "2023-04-30",
          "2023-05-01",
          "2023-05-02",
          "2023-05-03",
          "2023-05-04",
          "2023-05-05",
          "2023-05-06",
          "2023-05-07",
          "2023-05-08",
          "2023-05-09",
          "2023-05-10"
         ],
         "xaxis": "x",
         "y": [
          0.08333333333333333,
          0.08333333333333333,
          0.06666666666666667,
          0.15,
          0.1,
          0.6666666666666666,
          0.05,
          0.16666666666666666,
          0.08333333333333333,
          0.03333333333333333,
          0.06666666666666667,
          0.16666666666666666,
          0.06666666666666667,
          0.016666666666666666,
          0.18333333333333332,
          0.15,
          0.5333333333333333,
          0.4166666666666667,
          0.25,
          0.23333333333333334,
          0.08333333333333333,
          0.25,
          0.13333333333333333,
          0.18333333333333332,
          0.1,
          0.16666666666666666,
          0.11666666666666667,
          0.08333333333333333,
          0.08333333333333333,
          0.06666666666666667,
          0.016666666666666666,
          0.11666666666666667,
          0.06666666666666667,
          0.05,
          0.18333333333333332,
          0.26666666666666666,
          0.15,
          0.05,
          0.08333333333333333,
          0.06666666666666667,
          0.25,
          0.7333333333333333,
          0.4166666666666667,
          0.5166666666666667,
          0.35,
          0.7,
          0.4166666666666667,
          0.5166666666666667,
          0.6833333333333333,
          0.2833333333333333,
          0.4666666666666667,
          0.8666666666666667,
          1.6,
          9.4,
          0.7833333333333333,
          0.7166666666666667,
          0.8333333333333334,
          5.416666666666667,
          4.566666666666666,
          15.483333333333333,
          6.5,
          1.6333333333333333,
          1.2166666666666666,
          1.1833333333333333,
          1.1166666666666667,
          1.4666666666666666,
          2.2666666666666666,
          1.3,
          0.7333333333333333,
          0.6166666666666667
         ],
         "yaxis": "y"
        },
        {
         "hovertemplate": "creatorContentType=liveStream<br>day=%{x}<br>watch_hours=%{y}<extra></extra>",
         "legendgroup": "liveStream",
         "line": {
          "color": "#EF553B",
          "dash": "solid"
         },
         "marker": {
          "symbol": "circle"
         },
         "mode": "lines",
         "name": "liveStream",
         "orientation": "v",
         "showlegend": true,
         "type": "scatter",
         "x": [
          "2023-03-03",
          "2023-03-06",
          "2023-03-07",
          "2023-03-08",
          "2023-03-09",
          "2023-03-10",
          "2023-03-13",
          "2023-03-14",
          "2023-03-17",
          "2023-03-20",
          "2023-03-25",
          "2023-03-30",
          "2023-03-31",
          "2023-04-01",
          "2023-04-02",
          "2023-04-04",
          "2023-04-05",
          "2023-04-07",
          "2023-04-08",
          "2023-04-09",
          "2023-04-10",
          "2023-04-11",
          "2023-04-12",
          "2023-04-13",
          "2023-04-14",
          "2023-04-15",
          "2023-04-17",
          "2023-04-18",
          "2023-04-19",
          "2023-04-20",
          "2023-04-22",
          "2023-04-23",
          "2023-04-24",
          "2023-04-25",
          "2023-04-26",
          "2023-04-27",
          "2023-04-28",
          "2023-04-29",
          "2023-04-30",
          "2023-05-01",
          "2023-05-02",
          "2023-05-03",
          "2023-05-04",
          "2023-05-05",
          "2023-05-06",
          "2023-05-07",
          "2023-05-08",
          "2023-05-09",
          "2023-05-10"
         ],
         "xaxis": "x",
         "y": [
          0.26666666666666666,
          0,
          1.35,
          0.05,
          0.016666666666666666,
          0,
          0,
          0,
          0,
          0.03333333333333333,
          0,
          1.2166666666666666,
          1.0166666666666666,
          0.15,
          0.016666666666666666,
          0.03333333333333333,
          0,
          0.016666666666666666,
          0.3333333333333333,
          0.05,
          0.03333333333333333,
          0.15,
          0,
          0,
          0.08333333333333333,
          0,
          0.1,
          0.016666666666666666,
          0,
          0.03333333333333333,
          1.7,
          3.683333333333333,
          3.966666666666667,
          4.933333333333334,
          2.683333333333333,
          0.7833333333333333,
          2.45,
          5.583333333333333,
          3.2,
          1.5,
          4.233333333333333,
          0.5,
          0.1,
          1.3,
          9.35,
          1.25,
          1.6166666666666667,
          0.65,
          0.11666666666666667
         ],
         "yaxis": "y"
        }
       ],
       "layout": {
        "legend": {
         "title": {
          "text": "creatorContentType"
         },
         "tracegroupgap": 0
        },
        "margin": {
         "t": 60
        },
        "template": {
         "data": {
          "bar": [
           {
            "error_x": {
             "color": "#2a3f5f"
            },
            "error_y": {
             "color": "#2a3f5f"
            },
            "marker": {
             "line": {
              "color": "#E5ECF6",
              "width": 0.5
             },
             "pattern": {
              "fillmode": "overlay",
              "size": 10,
              "solidity": 0.2
             }
            },
            "type": "bar"
           }
          ],
          "barpolar": [
           {
            "marker": {
             "line": {
              "color": "#E5ECF6",
              "width": 0.5
             },
             "pattern": {
              "fillmode": "overlay",
              "size": 10,
              "solidity": 0.2
             }
            },
            "type": "barpolar"
           }
          ],
          "carpet": [
           {
            "aaxis": {
             "endlinecolor": "#2a3f5f",
             "gridcolor": "white",
             "linecolor": "white",
             "minorgridcolor": "white",
             "startlinecolor": "#2a3f5f"
            },
            "baxis": {
             "endlinecolor": "#2a3f5f",
             "gridcolor": "white",
             "linecolor": "white",
             "minorgridcolor": "white",
             "startlinecolor": "#2a3f5f"
            },
            "type": "carpet"
           }
          ],
          "choropleth": [
           {
            "colorbar": {
             "outlinewidth": 0,
             "ticks": ""
            },
            "type": "choropleth"
           }
          ],
          "contour": [
           {
            "colorbar": {
             "outlinewidth": 0,
             "ticks": ""
            },
            "colorscale": [
             [
              0,
              "#0d0887"
             ],
             [
              0.1111111111111111,
              "#46039f"
             ],
             [
              0.2222222222222222,
              "#7201a8"
             ],
             [
              0.3333333333333333,
              "#9c179e"
             ],
             [
              0.4444444444444444,
              "#bd3786"
             ],
             [
              0.5555555555555556,
              "#d8576b"
             ],
             [
              0.6666666666666666,
              "#ed7953"
             ],
             [
              0.7777777777777778,
              "#fb9f3a"
             ],
             [
              0.8888888888888888,
              "#fdca26"
             ],
             [
              1,
              "#f0f921"
             ]
            ],
            "type": "contour"
           }
          ],
          "contourcarpet": [
           {
            "colorbar": {
             "outlinewidth": 0,
             "ticks": ""
            },
            "type": "contourcarpet"
           }
          ],
          "heatmap": [
           {
            "colorbar": {
             "outlinewidth": 0,
             "ticks": ""
            },
            "colorscale": [
             [
              0,
              "#0d0887"
             ],
             [
              0.1111111111111111,
              "#46039f"
             ],
             [
              0.2222222222222222,
              "#7201a8"
             ],
             [
              0.3333333333333333,
              "#9c179e"
             ],
             [
              0.4444444444444444,
              "#bd3786"
             ],
             [
              0.5555555555555556,
              "#d8576b"
             ],
             [
              0.6666666666666666,
              "#ed7953"
             ],
             [
              0.7777777777777778,
              "#fb9f3a"
             ],
             [
              0.8888888888888888,
              "#fdca26"
             ],
             [
              1,
              "#f0f921"
             ]
            ],
            "type": "heatmap"
           }
          ],
          "heatmapgl": [
           {
            "colorbar": {
             "outlinewidth": 0,
             "ticks": ""
            },
            "colorscale": [
             [
              0,
              "#0d0887"
             ],
             [
              0.1111111111111111,
              "#46039f"
             ],
             [
              0.2222222222222222,
              "#7201a8"
             ],
             [
              0.3333333333333333,
              "#9c179e"
             ],
             [
              0.4444444444444444,
              "#bd3786"
             ],
             [
              0.5555555555555556,
              "#d8576b"
             ],
             [
              0.6666666666666666,
              "#ed7953"
             ],
             [
              0.7777777777777778,
              "#fb9f3a"
             ],
             [
              0.8888888888888888,
              "#fdca26"
             ],
             [
              1,
              "#f0f921"
             ]
            ],
            "type": "heatmapgl"
           }
          ],
          "histogram": [
           {
            "marker": {
             "pattern": {
              "fillmode": "overlay",
              "size": 10,
              "solidity": 0.2
             }
            },
            "type": "histogram"
           }
          ],
          "histogram2d": [
           {
            "colorbar": {
             "outlinewidth": 0,
             "ticks": ""
            },
            "colorscale": [
             [
              0,
              "#0d0887"
             ],
             [
              0.1111111111111111,
              "#46039f"
             ],
             [
              0.2222222222222222,
              "#7201a8"
             ],
             [
              0.3333333333333333,
              "#9c179e"
             ],
             [
              0.4444444444444444,
              "#bd3786"
             ],
             [
              0.5555555555555556,
              "#d8576b"
             ],
             [
              0.6666666666666666,
              "#ed7953"
             ],
             [
              0.7777777777777778,
              "#fb9f3a"
             ],
             [
              0.8888888888888888,
              "#fdca26"
             ],
             [
              1,
              "#f0f921"
             ]
            ],
            "type": "histogram2d"
           }
          ],
          "histogram2dcontour": [
           {
            "colorbar": {
             "outlinewidth": 0,
             "ticks": ""
            },
            "colorscale": [
             [
              0,
              "#0d0887"
             ],
             [
              0.1111111111111111,
              "#46039f"
             ],
             [
              0.2222222222222222,
              "#7201a8"
             ],
             [
              0.3333333333333333,
              "#9c179e"
             ],
             [
              0.4444444444444444,
              "#bd3786"
             ],
             [
              0.5555555555555556,
              "#d8576b"
             ],
             [
              0.6666666666666666,
              "#ed7953"
             ],
             [
              0.7777777777777778,
              "#fb9f3a"
             ],
             [
              0.8888888888888888,
              "#fdca26"
             ],
             [
              1,
              "#f0f921"
             ]
            ],
            "type": "histogram2dcontour"
           }
          ],
          "mesh3d": [
           {
            "colorbar": {
             "outlinewidth": 0,
             "ticks": ""
            },
            "type": "mesh3d"
           }
          ],
          "parcoords": [
           {
            "line": {
             "colorbar": {
              "outlinewidth": 0,
              "ticks": ""
             }
            },
            "type": "parcoords"
           }
          ],
          "pie": [
           {
            "automargin": true,
            "type": "pie"
           }
          ],
          "scatter": [
           {
            "fillpattern": {
             "fillmode": "overlay",
             "size": 10,
             "solidity": 0.2
            },
            "type": "scatter"
           }
          ],
          "scatter3d": [
           {
            "line": {
             "colorbar": {
              "outlinewidth": 0,
              "ticks": ""
             }
            },
            "marker": {
             "colorbar": {
              "outlinewidth": 0,
              "ticks": ""
             }
            },
            "type": "scatter3d"
           }
          ],
          "scattercarpet": [
           {
            "marker": {
             "colorbar": {
              "outlinewidth": 0,
              "ticks": ""
             }
            },
            "type": "scattercarpet"
           }
          ],
          "scattergeo": [
           {
            "marker": {
             "colorbar": {
              "outlinewidth": 0,
              "ticks": ""
             }
            },
            "type": "scattergeo"
           }
          ],
          "scattergl": [
           {
            "marker": {
             "colorbar": {
              "outlinewidth": 0,
              "ticks": ""
             }
            },
            "type": "scattergl"
           }
          ],
          "scattermapbox": [
           {
            "marker": {
             "colorbar": {
              "outlinewidth": 0,
              "ticks": ""
             }
            },
            "type": "scattermapbox"
           }
          ],
          "scatterpolar": [
           {
            "marker": {
             "colorbar": {
              "outlinewidth": 0,
              "ticks": ""
             }
            },
            "type": "scatterpolar"
           }
          ],
          "scatterpolargl": [
           {
            "marker": {
             "colorbar": {
              "outlinewidth": 0,
              "ticks": ""
             }
            },
            "type": "scatterpolargl"
           }
          ],
          "scatterternary": [
           {
            "marker": {
             "colorbar": {
              "outlinewidth": 0,
              "ticks": ""
             }
            },
            "type": "scatterternary"
           }
          ],
          "surface": [
           {
            "colorbar": {
             "outlinewidth": 0,
             "ticks": ""
            },
            "colorscale": [
             [
              0,
              "#0d0887"
             ],
             [
              0.1111111111111111,
              "#46039f"
             ],
             [
              0.2222222222222222,
              "#7201a8"
             ],
             [
              0.3333333333333333,
              "#9c179e"
             ],
             [
              0.4444444444444444,
              "#bd3786"
             ],
             [
              0.5555555555555556,
              "#d8576b"
             ],
             [
              0.6666666666666666,
              "#ed7953"
             ],
             [
              0.7777777777777778,
              "#fb9f3a"
             ],
             [
              0.8888888888888888,
              "#fdca26"
             ],
             [
              1,
              "#f0f921"
             ]
            ],
            "type": "surface"
           }
          ],
          "table": [
           {
            "cells": {
             "fill": {
              "color": "#EBF0F8"
             },
             "line": {
              "color": "white"
             }
            },
            "header": {
             "fill": {
              "color": "#C8D4E3"
             },
             "line": {
              "color": "white"
             }
            },
            "type": "table"
           }
          ]
         },
         "layout": {
          "annotationdefaults": {
           "arrowcolor": "#2a3f5f",
           "arrowhead": 0,
           "arrowwidth": 1
          },
          "autotypenumbers": "strict",
          "coloraxis": {
           "colorbar": {
            "outlinewidth": 0,
            "ticks": ""
           }
          },
          "colorscale": {
           "diverging": [
            [
             0,
             "#8e0152"
            ],
            [
             0.1,
             "#c51b7d"
            ],
            [
             0.2,
             "#de77ae"
            ],
            [
             0.3,
             "#f1b6da"
            ],
            [
             0.4,
             "#fde0ef"
            ],
            [
             0.5,
             "#f7f7f7"
            ],
            [
             0.6,
             "#e6f5d0"
            ],
            [
             0.7,
             "#b8e186"
            ],
            [
             0.8,
             "#7fbc41"
            ],
            [
             0.9,
             "#4d9221"
            ],
            [
             1,
             "#276419"
            ]
           ],
           "sequential": [
            [
             0,
             "#0d0887"
            ],
            [
             0.1111111111111111,
             "#46039f"
            ],
            [
             0.2222222222222222,
             "#7201a8"
            ],
            [
             0.3333333333333333,
             "#9c179e"
            ],
            [
             0.4444444444444444,
             "#bd3786"
            ],
            [
             0.5555555555555556,
             "#d8576b"
            ],
            [
             0.6666666666666666,
             "#ed7953"
            ],
            [
             0.7777777777777778,
             "#fb9f3a"
            ],
            [
             0.8888888888888888,
             "#fdca26"
            ],
            [
             1,
             "#f0f921"
            ]
           ],
           "sequentialminus": [
            [
             0,
             "#0d0887"
            ],
            [
             0.1111111111111111,
             "#46039f"
            ],
            [
             0.2222222222222222,
             "#7201a8"
            ],
            [
             0.3333333333333333,
             "#9c179e"
            ],
            [
             0.4444444444444444,
             "#bd3786"
            ],
            [
             0.5555555555555556,
             "#d8576b"
            ],
            [
             0.6666666666666666,
             "#ed7953"
            ],
            [
             0.7777777777777778,
             "#fb9f3a"
            ],
            [
             0.8888888888888888,
             "#fdca26"
            ],
            [
             1,
             "#f0f921"
            ]
           ]
          },
          "colorway": [
           "#636efa",
           "#EF553B",
           "#00cc96",
           "#ab63fa",
           "#FFA15A",
           "#19d3f3",
           "#FF6692",
           "#B6E880",
           "#FF97FF",
           "#FECB52"
          ],
          "font": {
           "color": "#2a3f5f"
          },
          "geo": {
           "bgcolor": "white",
           "lakecolor": "white",
           "landcolor": "#E5ECF6",
           "showlakes": true,
           "showland": true,
           "subunitcolor": "white"
          },
          "hoverlabel": {
           "align": "left"
          },
          "hovermode": "closest",
          "mapbox": {
           "style": "light"
          },
          "paper_bgcolor": "white",
          "plot_bgcolor": "#E5ECF6",
          "polar": {
           "angularaxis": {
            "gridcolor": "white",
            "linecolor": "white",
            "ticks": ""
           },
           "bgcolor": "#E5ECF6",
           "radialaxis": {
            "gridcolor": "white",
            "linecolor": "white",
            "ticks": ""
           }
          },
          "scene": {
           "xaxis": {
            "backgroundcolor": "#E5ECF6",
            "gridcolor": "white",
            "gridwidth": 2,
            "linecolor": "white",
            "showbackground": true,
            "ticks": "",
            "zerolinecolor": "white"
           },
           "yaxis": {
            "backgroundcolor": "#E5ECF6",
            "gridcolor": "white",
            "gridwidth": 2,
            "linecolor": "white",
            "showbackground": true,
            "ticks": "",
            "zerolinecolor": "white"
           },
           "zaxis": {
            "backgroundcolor": "#E5ECF6",
            "gridcolor": "white",
            "gridwidth": 2,
            "linecolor": "white",
            "showbackground": true,
            "ticks": "",
            "zerolinecolor": "white"
           }
          },
          "shapedefaults": {
           "line": {
            "color": "#2a3f5f"
           }
          },
          "ternary": {
           "aaxis": {
            "gridcolor": "white",
            "linecolor": "white",
            "ticks": ""
           },
           "baxis": {
            "gridcolor": "white",
            "linecolor": "white",
            "ticks": ""
           },
           "bgcolor": "#E5ECF6",
           "caxis": {
            "gridcolor": "white",
            "linecolor": "white",
            "ticks": ""
           }
          },
          "title": {
           "x": 0.05
          },
          "xaxis": {
           "automargin": true,
           "gridcolor": "white",
           "linecolor": "white",
           "ticks": "",
           "title": {
            "standoff": 15
           },
           "zerolinecolor": "white",
           "zerolinewidth": 2
          },
          "yaxis": {
           "automargin": true,
           "gridcolor": "white",
           "linecolor": "white",
           "ticks": "",
           "title": {
            "standoff": 15
           },
           "zerolinecolor": "white",
           "zerolinewidth": 2
          }
         }
        },
        "xaxis": {
         "anchor": "y",
         "domain": [
          0,
          1
         ],
         "title": {
          "text": "day"
         }
        },
        "yaxis": {
         "anchor": "x",
         "domain": [
          0,
          1
         ],
         "title": {
          "text": "watch_hours"
         }
        }
       }
      }
     },
     "metadata": {},
     "output_type": "display_data"
    }
   ],
   "source": [
    "fig2 = px.line(df_video_and_live_2023, x='day', y='watch_hours', color='creatorContentType')\n",
    "fig2.show()"
   ]
  }
 ],
 "metadata": {
  "kernelspec": {
   "display_name": "Python 3",
   "language": "python",
   "name": "python3"
  },
  "language_info": {
   "codemirror_mode": {
    "name": "ipython",
    "version": 3
   },
   "file_extension": ".py",
   "mimetype": "text/x-python",
   "name": "python",
   "nbconvert_exporter": "python",
   "pygments_lexer": "ipython3",
   "version": "3.11.3"
  },
  "orig_nbformat": 4
 },
 "nbformat": 4,
 "nbformat_minor": 2
}
